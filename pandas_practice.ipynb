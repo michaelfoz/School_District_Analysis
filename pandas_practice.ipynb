{
 "cells": [
  {
   "cell_type": "code",
   "execution_count": 20,
   "id": "f4e96789",
   "metadata": {},
   "outputs": [
    {
     "name": "stdout",
     "output_type": "stream",
     "text": [
      "Hernandez High School\n",
      "Figueroa High School\n",
      "Wilson High School\n",
      "Wright High School\n"
     ]
    }
   ],
   "source": [
    "# List of high schools. --Module 4.3.4: Practice Using Jupyter Notebook\n",
    "high_schools = [\"Hernandez High School\",\"Figueroa High School\",\"Wilson High School\",\"Wright High School\"]\n",
    "for school in high_schools:\n",
    "    print(school)"
   ]
  },
  {
   "cell_type": "code",
   "execution_count": 21,
   "id": "51700c83",
   "metadata": {},
   "outputs": [
    {
     "name": "stdout",
     "output_type": "stream",
     "text": [
      "{'High School': 'Griffin', 'Type': 'District'}\n",
      "{'High School': 'Figueroa', 'Type': 'District'}\n",
      "{'High School': 'Wilson', 'Type': 'Charter'}\n",
      "{'High School': 'Wright', 'Type': 'Charter'}\n"
     ]
    }
   ],
   "source": [
    "# A dictionary of high schools and the type of school. --Module 4.3.4: Practice Using Jupyter Notebook\n",
    "high_school_types = [{\"High School\": \"Griffin\", \"Type\":\"District\"},\n",
    "                    {\"High School\": \"Figueroa\", \"Type\": \"District\"},\n",
    "                    {\"High School\": \"Wilson\", \"Type\": \"Charter\"},\n",
    "                    {\"High School\": \"Wright\", \"Type\": \"Charter\"}]\n",
    "\n",
    "for school in high_school_types:\n",
    "    print(school)"
   ]
  },
  {
   "cell_type": "code",
   "execution_count": 22,
   "id": "8173c155",
   "metadata": {},
   "outputs": [],
   "source": [
    "# List of high schools --Module 4.3.5: Overview of Pandas Library\n",
    "high_schools = [\"Huang High School\",  \"Figueroa High School\", \"Shelton High School\", \"Hernandez High School\",\"Griffin High School\",\"Wilson High School\", \"Cabrera High School\", \"Bailey High School\", \"Holden High School\", \"Pena High School\", \"Wright High School\",\"Rodriguez High School\", \"Johnson High School\", \"Ford High School\", \"Thomas High School\"]\n"
   ]
  },
  {
   "cell_type": "code",
   "execution_count": 23,
   "id": "1eef61ff",
   "metadata": {},
   "outputs": [],
   "source": [
    "# Module 4.3.5: \"To create a Pandas Series, we'll use the pandas.Series() method from the Pandas Libray.-\n",
    "# But in order to use this method, we first need to import the Pandas libray as a dependencey.\"\"\n",
    "\n",
    "# Add the Pandas depenency.\n",
    "import pandas as pd"
   ]
  },
  {
   "cell_type": "code",
   "execution_count": 24,
   "id": "b8457aae",
   "metadata": {
    "scrolled": false
   },
   "outputs": [
    {
     "data": {
      "text/plain": [
       "0         Huang High School\n",
       "1      Figueroa High School\n",
       "2       Shelton High School\n",
       "3     Hernandez High School\n",
       "4       Griffin High School\n",
       "5        Wilson High School\n",
       "6       Cabrera High School\n",
       "7        Bailey High School\n",
       "8        Holden High School\n",
       "9          Pena High School\n",
       "10       Wright High School\n",
       "11    Rodriguez High School\n",
       "12      Johnson High School\n",
       "13         Ford High School\n",
       "14       Thomas High School\n",
       "dtype: object"
      ]
     },
     "execution_count": 24,
     "metadata": {},
     "output_type": "execute_result"
    }
   ],
   "source": [
    "# Module 4.3.5: \"It's best practice to shorten the dependency name, or give it an alias.-\n",
    "# This makes it easier to use the dependancy in any preceding code you write.\n",
    "\n",
    "# In this code, we assign the variable school_series to the conversion of the list of schools to a Panda Series by using\n",
    "# pd.Series() instead of pandas.Series(). This is how we use the alias as pd in our code\n",
    "# When we run the cell, there is no direct ouput (The series was just created in computer memory).\n",
    "# To see the output, we need to retrieve it by calling the variable school_series.\n",
    "\n",
    "# Create list of Pandas Series from a list\n",
    "school_series = pd.Series(high_schools)\n",
    "school_series"
   ]
  },
  {
   "cell_type": "code",
   "execution_count": 26,
   "id": "7d260488",
   "metadata": {},
   "outputs": [],
   "source": [
    "# Pandas DataFrames --Module 4.3.5: Overview of the Pandas Library\n",
    "\n",
    "# A Pandas DataFrame is a two-dimensional labeled data structure, like a dictionary, \n",
    "# with rows and columns of potentially different data types such as \n",
    "# strings, integers, and floats (decimal point numbers), where data \n",
    "# is aligned in a table.\n",
    "\n",
    "# In essence, a Pandas DataFrame contains multiple Pandas Series, \n",
    "# or lists. Each column in the Excel file is a Series. \n",
    "# In the previous section, we worked with a Series, a list of high schools. \n",
    "# That Series is like column B in this Excel file.\n",
    "\n",
    "# We can convert the data in this Excel file to a Pandas DataFrame using \n",
    "# the pandas.DataFrame() method from the Pandas library.\n",
    "\n",
    "# !!!!!!!!!Convert a List of Dictionaries to DataFrame:!!!!!!!!!\n",
    "# To create the dictionaries, \n",
    "# in thepandas_practice.ipynb file, copy the code into a new cell (below):"
   ]
  },
  {
   "cell_type": "code",
   "execution_count": 27,
   "id": "cbd46eac",
   "metadata": {},
   "outputs": [],
   "source": [
    "# A dictionary of high schools\n",
    "\n",
    "high_school_dicts = [{\"School ID\": 0, \"school_name\": \"Huang High    School\", \"type\": \"District\"},\n",
    "                   {\"School ID\": 1, \"school_name\": \"Figueroa High School\", \"type\": \"District\"},\n",
    "                    {\"School ID\": 2, \"school_name\":\"Shelton High School\", \"type\": \"Charter\"},\n",
    "                    {\"School ID\": 3, \"school_name\":\"Hernandez High School\", \"type\": \"District\"},\n",
    "                    {\"School ID\": 4, \"school_name\":\"Griffin High School\", \"type\": \"Charter\"}]\n",
    "\n",
    "# The column headers in the Excel file are the keys in the dictionary. \n",
    "# The value for each of the keys corresponds to a row in the Excel file.\n",
    "\n",
    "# In the next cell, we will convert the array, or list \n",
    "# of dictionaries, to a DataFrame using school_df = pd.DataFrame(high_school_dicts). \n",
    "# In a new cell, type and run the following code: \n",
    "# school_df = pd.DataFrame(high_school_dicts)\n",
    "# school_df\n"
   ]
  },
  {
   "cell_type": "code",
   "execution_count": 28,
   "id": "9300b2ff",
   "metadata": {},
   "outputs": [
    {
     "data": {
      "text/html": [
       "<div>\n",
       "<style scoped>\n",
       "    .dataframe tbody tr th:only-of-type {\n",
       "        vertical-align: middle;\n",
       "    }\n",
       "\n",
       "    .dataframe tbody tr th {\n",
       "        vertical-align: top;\n",
       "    }\n",
       "\n",
       "    .dataframe thead th {\n",
       "        text-align: right;\n",
       "    }\n",
       "</style>\n",
       "<table border=\"1\" class=\"dataframe\">\n",
       "  <thead>\n",
       "    <tr style=\"text-align: right;\">\n",
       "      <th></th>\n",
       "      <th>School ID</th>\n",
       "      <th>school_name</th>\n",
       "      <th>type</th>\n",
       "    </tr>\n",
       "  </thead>\n",
       "  <tbody>\n",
       "    <tr>\n",
       "      <th>0</th>\n",
       "      <td>0</td>\n",
       "      <td>Huang High    School</td>\n",
       "      <td>District</td>\n",
       "    </tr>\n",
       "    <tr>\n",
       "      <th>1</th>\n",
       "      <td>1</td>\n",
       "      <td>Figueroa High School</td>\n",
       "      <td>District</td>\n",
       "    </tr>\n",
       "    <tr>\n",
       "      <th>2</th>\n",
       "      <td>2</td>\n",
       "      <td>Shelton High School</td>\n",
       "      <td>Charter</td>\n",
       "    </tr>\n",
       "    <tr>\n",
       "      <th>3</th>\n",
       "      <td>3</td>\n",
       "      <td>Hernandez High School</td>\n",
       "      <td>District</td>\n",
       "    </tr>\n",
       "    <tr>\n",
       "      <th>4</th>\n",
       "      <td>4</td>\n",
       "      <td>Griffin High School</td>\n",
       "      <td>Charter</td>\n",
       "    </tr>\n",
       "  </tbody>\n",
       "</table>\n",
       "</div>"
      ],
      "text/plain": [
       "   School ID            school_name      type\n",
       "0          0   Huang High    School  District\n",
       "1          1   Figueroa High School  District\n",
       "2          2    Shelton High School   Charter\n",
       "3          3  Hernandez High School  District\n",
       "4          4    Griffin High School   Charter"
      ]
     },
     "execution_count": 28,
     "metadata": {},
     "output_type": "execute_result"
    }
   ],
   "source": [
    "# Rewind: A Python dictionary has a key and a value, or key-value pairs.\n",
    "school_df = pd.DataFrame(high_school_dicts)\n",
    "school_df\n",
    "\n",
    "# ^^^(Code above will create a Pandas DataFrame for the list of dictionaries."
   ]
  },
  {
   "cell_type": "code",
   "execution_count": 30,
   "id": "f12ef039",
   "metadata": {},
   "outputs": [],
   "source": [
    "# Previos cell note: \n",
    "# The df in school_df is short for \"DataFrame.\" It's a best practice to \n",
    "# add this df to a named DataFrame to help distinguish \n",
    "# between DataFrames, Series, and variables."
   ]
  },
  {
   "cell_type": "code",
   "execution_count": 40,
   "id": "6b664fce",
   "metadata": {},
   "outputs": [],
   "source": [
    "# Convert a List or Series to a DataFrame\n",
    "# We can also create the same DataFrame by adding each column \n",
    "# as a list, or Series, to an empty DataFrame.\n",
    "\n",
    "# Three separate lists of information on high schools\n",
    "school_id = [0, 1, 2, 3, 4]\n",
    "\n",
    "school_name = [\"Huang High School\", \"Figueroa High School\",\n",
    "\"Shelton High School\", \"Hernandez High School\",\"Griffin High School\"]\n",
    "\n",
    "type_of_school = [\"District\", \"District\", \"Charter\", \"District\",\"Charter\"]"
   ]
  },
  {
   "cell_type": "code",
   "execution_count": 41,
   "id": "18861a66",
   "metadata": {},
   "outputs": [],
   "source": [
    "# Next, in a new cell (current cell), initialize an empty DataFrame, like this:\n",
    "\n",
    "# Initialize a new DataFrame.\n",
    "schools_df = pd.DataFrame()\n",
    "\n",
    "# Rewind: The standard format for creating a key in a dictionary is to \n",
    "# put the key in single or double quotes and inside brackets, \n",
    "# e.g.,  counties_dict[\"Arapahoe\"] = 422829."
   ]
  },
  {
   "cell_type": "code",
   "execution_count": 42,
   "id": "16c6bb1a",
   "metadata": {},
   "outputs": [
    {
     "data": {
      "text/html": [
       "<div>\n",
       "<style scoped>\n",
       "    .dataframe tbody tr th:only-of-type {\n",
       "        vertical-align: middle;\n",
       "    }\n",
       "\n",
       "    .dataframe tbody tr th {\n",
       "        vertical-align: top;\n",
       "    }\n",
       "\n",
       "    .dataframe thead th {\n",
       "        text-align: right;\n",
       "    }\n",
       "</style>\n",
       "<table border=\"1\" class=\"dataframe\">\n",
       "  <thead>\n",
       "    <tr style=\"text-align: right;\">\n",
       "      <th></th>\n",
       "      <th>School ID</th>\n",
       "      <th>School Name</th>\n",
       "      <th>Type</th>\n",
       "    </tr>\n",
       "  </thead>\n",
       "  <tbody>\n",
       "    <tr>\n",
       "      <th>0</th>\n",
       "      <td>0</td>\n",
       "      <td>Huang High School</td>\n",
       "      <td>District</td>\n",
       "    </tr>\n",
       "    <tr>\n",
       "      <th>1</th>\n",
       "      <td>1</td>\n",
       "      <td>Figueroa High School</td>\n",
       "      <td>District</td>\n",
       "    </tr>\n",
       "    <tr>\n",
       "      <th>2</th>\n",
       "      <td>2</td>\n",
       "      <td>Shelton High School</td>\n",
       "      <td>Charter</td>\n",
       "    </tr>\n",
       "    <tr>\n",
       "      <th>3</th>\n",
       "      <td>3</td>\n",
       "      <td>Hernandez High School</td>\n",
       "      <td>District</td>\n",
       "    </tr>\n",
       "    <tr>\n",
       "      <th>4</th>\n",
       "      <td>4</td>\n",
       "      <td>Griffin High School</td>\n",
       "      <td>Charter</td>\n",
       "    </tr>\n",
       "  </tbody>\n",
       "</table>\n",
       "</div>"
      ],
      "text/plain": [
       "   School ID            School Name      Type\n",
       "0          0      Huang High School  District\n",
       "1          1   Figueroa High School  District\n",
       "2          2    Shelton High School   Charter\n",
       "3          3  Hernandez High School  District\n",
       "4          4    Griffin High School   Charter"
      ]
     },
     "execution_count": 42,
     "metadata": {},
     "output_type": "execute_result"
    }
   ],
   "source": [
    "# Instead of using the dictionary name, we'll use the name of the DataFrame and \n",
    "# make it equal to the list, like this:\n",
    "\n",
    "# Add the list to a new DataFrame.\n",
    "schools_df[\"School ID\"] = school_id\n",
    "schools_df[\"School Name\"] = school_name\n",
    "schools_df[\"Type\"] = type_of_school\n",
    "\n",
    "# Print the DataFrame.\n",
    "schools_df"
   ]
  },
  {
   "cell_type": "code",
   "execution_count": 39,
   "id": "4b226b3d",
   "metadata": {},
   "outputs": [],
   "source": [
    "# Another way to create this DataFrame is to create a Python dictionary\n",
    "# from the three lists, like this:\n",
    "\n",
    "# Create a dictionary of information on high schools.\n",
    "high_schools_dict = {'School ID': school_id, 'school_name':school_name, 'type':type_of_school}"
   ]
  },
  {
   "cell_type": "code",
   "execution_count": null,
   "id": "24790fbb",
   "metadata": {},
   "outputs": [],
   "source": [
    "# The Anatomy of a DataFrame\n",
    "# Before we move on, let's look at three main parts of a DataFrame, using the school_df as an example:\n",
    "\n",
    "# Columns: The top, or header, rows\n",
    "# Index: The numbers that run down the left-hand margin\n",
    "# Values: The values in the columns (the data)\n",
    "# See the following image for a visual representation of a DataFrame's anatomy:\n",
    "# https://courses.bootcampspot.com/courses/1225/files/1417656/preview\n",
    "# \n",
    "# We can access these three main components of a DataFrame with the columns, index, and values attributes."
   ]
  },
  {
   "cell_type": "code",
   "execution_count": 43,
   "id": "710eafc2",
   "metadata": {},
   "outputs": [
    {
     "data": {
      "text/plain": [
       "Index(['School ID', 'school_name', 'type'], dtype='object')"
      ]
     },
     "execution_count": 43,
     "metadata": {},
     "output_type": "execute_result"
    }
   ],
   "source": [
    "# The Columns Attribute\n",
    "# To get the column names of a DataFrame, use df.columns. Here's how you would apply the columns attribute to the school_df DataFrame:\n",
    "\n",
    "school_df.columns"
   ]
  },
  {
   "cell_type": "code",
   "execution_count": 44,
   "id": "662c8e56",
   "metadata": {},
   "outputs": [
    {
     "data": {
      "text/plain": [
       "RangeIndex(start=0, stop=5, step=1)"
      ]
     },
     "execution_count": 44,
     "metadata": {},
     "output_type": "execute_result"
    }
   ],
   "source": [
    "# The Index Attribute\n",
    "# To get the indices of the DataFrame, use df.index. Here's how you would apply the index attribute to the school_df DataFrame:\n",
    "\n",
    "school_df.index\n",
    "\n",
    "# When you run this cell, the output is a RangeIndexthat contains the first and last index value, as well as the \"step=1,\" \n",
    "# or how often the index increments. In this case, the index increments \n",
    "# a value of 1 from the beginning index to the ending index."
   ]
  },
  {
   "cell_type": "code",
   "execution_count": 45,
   "id": "a93c4f93",
   "metadata": {},
   "outputs": [
    {
     "data": {
      "text/plain": [
       "array([[0, 'Huang High    School', 'District'],\n",
       "       [1, 'Figueroa High School', 'District'],\n",
       "       [2, 'Shelton High School', 'Charter'],\n",
       "       [3, 'Hernandez High School', 'District'],\n",
       "       [4, 'Griffin High School', 'Charter']], dtype=object)"
      ]
     },
     "execution_count": 45,
     "metadata": {},
     "output_type": "execute_result"
    }
   ],
   "source": [
    "# The Values Attribute\n",
    "# To get the values of the DataFrame, use df.values. Here's how you would apply the values attribute to the school_df DataFrame:\n",
    "\n",
    "school_df.values\n",
    "\n",
    "# When you run this cell, the output \n",
    "# will be an array of all the values, but without the column names."
   ]
  }
 ],
 "metadata": {
  "kernelspec": {
   "display_name": "PythonData",
   "language": "python",
   "name": "pythondata"
  },
  "language_info": {
   "codemirror_mode": {
    "name": "ipython",
    "version": 3
   },
   "file_extension": ".py",
   "mimetype": "text/x-python",
   "name": "python",
   "nbconvert_exporter": "python",
   "pygments_lexer": "ipython3",
   "version": "3.7.11"
  }
 },
 "nbformat": 4,
 "nbformat_minor": 5
}
