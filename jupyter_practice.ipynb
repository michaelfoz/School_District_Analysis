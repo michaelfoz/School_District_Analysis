{
 "cells": [
  {
   "cell_type": "code",
   "execution_count": 3,
   "id": "1deb666d",
   "metadata": {},
   "outputs": [],
   "source": [
    "# This file is empty; was created as demonstration per Module 4.3.2 (Create a Jupyter Notebook File)--shows us that upon opening-\n",
    "# jupyter notebook from Anaconda Prompt (PythonData), we can open a folder in jupyter notebook and create a new-\n",
    "# file.  When saving the new file in jupyter notebook (via internet), the file will also be visible in the folder that you have-\n",
    "# in your computer (locally).\n",
    "# Module 4.3.2 URL:\n",
    "# https://courses.bootcampspot.com/courses/1225/pages/4-dot-3-2-create-a-jupyter-notebook-file?module_item_id=497337\n",
    "#\n",
    "# OneDrive/Desktop/Analysis Projects/Module_4/School_District_Analysis\n",
    "# ---> NEW (dropdown menu: select Pyhon Data, not Python 3)\n",
    "#\n",
    "# Note (4.3.2): Pyhthon files created with Jupyter Notebook are given the .ipynb extension rather than .py, so they-\n",
    "# cannot be easily read or altered within a typical text editor like VS Code.\n",
    "#\n",
    "# Note (4.3.3): Setting the kernel for Jupyter projects is important because kernels let the program know which-\n",
    "# libraries will be available for use. Only those libraries loaded into the selected development environment can be-\n",
    "# used in a Jupyter Notebook project.\n",
    "# Module 4.3.3 URL:\n",
    "# https://courses.bootcampspot.com/courses/1225/pages/4-dot-3-3-overview-of-the-jupyter-notebook-environment?module_item_id=497340\n",
    "#\n",
    "# Module 4.3.4--instructions to create new file named pandas_practice.ipynb (not this file)"
   ]
  },
  {
   "cell_type": "code",
   "execution_count": null,
   "id": "565c22a0",
   "metadata": {},
   "outputs": [],
   "source": []
  }
 ],
 "metadata": {
  "kernelspec": {
   "display_name": "PythonData",
   "language": "python",
   "name": "pythondata"
  },
  "language_info": {
   "codemirror_mode": {
    "name": "ipython",
    "version": 3
   },
   "file_extension": ".py",
   "mimetype": "text/x-python",
   "name": "python",
   "nbconvert_exporter": "python",
   "pygments_lexer": "ipython3",
   "version": "3.7.11"
  }
 },
 "nbformat": 4,
 "nbformat_minor": 5
}
