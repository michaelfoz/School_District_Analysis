{
 "cells": [
  {
   "cell_type": "code",
   "execution_count": 1,
   "id": "999fe80b",
   "metadata": {},
   "outputs": [],
   "source": [
    "# Per Module 4.7.8: in funcions.ipynb, add and run the following code.\n",
    "\n",
    "# A list of my grades.\n",
    "my_grades = ['B','C','B','D']"
   ]
  },
  {
   "cell_type": "code",
   "execution_count": 2,
   "id": "64dfa908",
   "metadata": {},
   "outputs": [
    {
     "data": {
      "text/plain": [
       "0    B\n",
       "1    C\n",
       "2    B\n",
       "3    D\n",
       "dtype: object"
      ]
     },
     "execution_count": 2,
     "metadata": {},
     "output_type": "execute_result"
    }
   ],
   "source": [
    "# Import pandas.\n",
    "import pandas as pd\n",
    "# Convert the my_grades into a Series\n",
    "my_grades = pd.Series(my_grades)\n",
    "my_grades"
   ]
  },
  {
   "cell_type": "code",
   "execution_count": 3,
   "id": "4e2a5e4b",
   "metadata": {},
   "outputs": [
    {
     "data": {
      "text/plain": [
       "0    A\n",
       "1    B\n",
       "2    A\n",
       "3    C\n",
       "dtype: object"
      ]
     },
     "execution_count": 3,
     "metadata": {},
     "output_type": "execute_result"
    }
   ],
   "source": [
    "# Use the map() function to change B to A, C to B, and D to C.\n",
    "# To change each string value in this Series to another value using the following format (below):\n",
    "# map(\"current_value_1\" : \"new_value_1\",  \"current_value_2\" : \"new_value_2\", etc)\n",
    "\n",
    "# Change the grades by one letter grade.\n",
    "my_grades.map({'B': 'A', 'C': 'B', 'D': 'C'})\n"
   ]
  },
  {
   "cell_type": "code",
   "execution_count": null,
   "id": "573b9835",
   "metadata": {},
   "outputs": [],
   "source": [
    "# ^^^ (Cell above): Since we had two grades that were a \"B\", we didn't need to map the second \"B\" to an \"A\". This change was handled with the first substitution in themap() function.\n",
    "\n",
    "# Now, let's look at another Pandas function. The format() function.\n",
    "\n",
    "# The Python format() Function\n",
    "# The Python format() function is used to format a value to a specific format, such as one or two decimal places, or adding a thousands separator. This function follows this syntax: \n",
    "\n",
    "# \"{value:format specification}\".format(value)\n",
    "\n",
    "# The \"value\" within the curly braces represents the value that we want to format. Usually, the value in the format(value) is a variable. After the colon, the format specification will designate how the value should be formatted.\n",
    "\n",
    "# Let's look at an example of the format() function (below):"
   ]
  },
  {
   "cell_type": "code",
   "execution_count": 4,
   "id": "692fc5b7",
   "metadata": {},
   "outputs": [
    {
     "name": "stdout",
     "output_type": "stream",
     "text": [
      "92\n",
      "85\n",
      "87\n",
      "98\n"
     ]
    }
   ],
   "source": [
    "# Using the format() function.\n",
    "my_grades = [92.34, 84.56, 86.78, 98.32]\n",
    "\n",
    "for grade in my_grades:\n",
    "    print(\"{:.0f}\".format(grade))\n",
    "\n",
    "# In this code, there is a list of grades formatted to two decimal places. To format these grades to the nearest whole number percent, we will do the following:\n",
    "\n",
    "# Iterate through the grades.\n",
    "# Pass the grade variable inside the format() function.\n",
    "# Specify the format for the grade variable we would like by using {:.0f}.\n",
    "# In this format, the grade variable is referenced in front of the colon, so there is no need to add the grade variable.\n",
    "# After the colon, the .0f means to format the grade with no decimal place, where the \"period\" is for the decimal place, the \"0\" is for \"no\" decimal place, and the \"f\" means floating-point decimal. If we wanted to format to one decimal place, we would use 1 instead of 0, and 2 for two decimal places, and so on.\n",
    "# When we run the example code, we get the grades formatted to the nearest whole number percent:\n"
   ]
  },
  {
   "cell_type": "code",
   "execution_count": null,
   "id": "5c8c54e6",
   "metadata": {},
   "outputs": [],
   "source": [
    "# Chaining the map() and format() Functions\n",
    "# We also apply the format() function to a Series or column in a DataFrame by chaining the map() and format() functions.\n",
    "\n",
    "# First let's convert the numerical grades array to a Series with the following code (below):"
   ]
  },
  {
   "cell_type": "code",
   "execution_count": 5,
   "id": "5afc54b2",
   "metadata": {},
   "outputs": [
    {
     "data": {
      "text/plain": [
       "0    92.34\n",
       "1    84.56\n",
       "2    86.78\n",
       "3    78.32\n",
       "dtype: float64"
      ]
     },
     "execution_count": 5,
     "metadata": {},
     "output_type": "execute_result"
    }
   ],
   "source": [
    "# Convert the numerical grades to a Series.\n",
    "my_grades = pd.Series([92.34, 84.56, 86.78, 78.32])\n",
    "my_grades"
   ]
  },
  {
   "cell_type": "code",
   "execution_count": 6,
   "id": "3a5c6312",
   "metadata": {},
   "outputs": [
    {
     "data": {
      "text/plain": [
       "0    92\n",
       "1    85\n",
       "2    87\n",
       "3    78\n",
       "dtype: object"
      ]
     },
     "execution_count": 6,
     "metadata": {},
     "output_type": "execute_result"
    }
   ],
   "source": [
    "# Next, we can format the numerical grades to the nearest whole number percent as shown in the output after running the following line of code:\n",
    "\n",
    "# Format the grades to the nearest whole number percent.\n",
    "my_grades.map(\"{:.0f}\".format)"
   ]
  },
  {
   "cell_type": "code",
   "execution_count": null,
   "id": "c93f7b34",
   "metadata": {},
   "outputs": [],
   "source": []
  }
 ],
 "metadata": {
  "kernelspec": {
   "display_name": "PythonData",
   "language": "python",
   "name": "pythondata"
  },
  "language_info": {
   "codemirror_mode": {
    "name": "ipython",
    "version": 3
   },
   "file_extension": ".py",
   "mimetype": "text/x-python",
   "name": "python",
   "nbconvert_exporter": "python",
   "pygments_lexer": "ipython3",
   "version": "3.7.11"
  }
 },
 "nbformat": 4,
 "nbformat_minor": 5
}
