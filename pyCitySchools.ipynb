{
 "cells": [
  {
   "cell_type": "code",
   "execution_count": 172,
   "id": "205a3c0d",
   "metadata": {},
   "outputs": [],
   "source": [
    "# Note: this file created per Module 4.4.3: load and Read CSV Files.\n",
    "# https://courses.bootcampspot.com/courses/1225/pages/4-dot-4-3-load-and-read-csv-files?module_item_id=497361\n",
    "\n",
    "# Add the Pandas dependency.\n",
    "import pandas as pd"
   ]
  },
  {
   "cell_type": "code",
   "execution_count": 173,
   "id": "bb532d23",
   "metadata": {},
   "outputs": [],
   "source": [
    "#In the next cell, declare two variables: \n",
    "# one assigned to the schools_complete.csv file and one assigned to the students_complete.csv file. \n",
    "# (These files are located in the Resources folder.) \n",
    "\n",
    "# Files to load\n",
    "school_data_to_load = \"Resources/schools_complete.csv\"\n",
    "student_data_to_load = \"Resources/students_complete.csv\""
   ]
  },
  {
   "cell_type": "code",
   "execution_count": 174,
   "id": "d0861adb",
   "metadata": {},
   "outputs": [],
   "source": [
    "# ^^^ Cell above: When we want to get the indirect path to a file, \n",
    "# we use os.path.join() \n",
    "# to load a file from somewhere in our directory.\n",
    "\n",
    "# If you decide to use this approach, you will need to import the os module with your Pandas dependency using the following code: \n",
    "\n",
    "# Add the dependencies.\n",
    "# import pandas as pd\n",
    "# import os\n",
    "\n",
    "# Then, use the os.path.join() method to connect to the CSV files: \n",
    "\n",
    "# Files to load\n",
    "# school_data_to_load = os.path.join(\"Resources\", \"schools_complete.csv\")\n",
    "# student_data_to_load = os.path.join(\"Resources\", \"students_complete.csv\")"
   ]
  },
  {
   "cell_type": "code",
   "execution_count": 175,
   "id": "7e13b81b",
   "metadata": {},
   "outputs": [
    {
     "data": {
      "text/html": [
       "<div>\n",
       "<style scoped>\n",
       "    .dataframe tbody tr th:only-of-type {\n",
       "        vertical-align: middle;\n",
       "    }\n",
       "\n",
       "    .dataframe tbody tr th {\n",
       "        vertical-align: top;\n",
       "    }\n",
       "\n",
       "    .dataframe thead th {\n",
       "        text-align: right;\n",
       "    }\n",
       "</style>\n",
       "<table border=\"1\" class=\"dataframe\">\n",
       "  <thead>\n",
       "    <tr style=\"text-align: right;\">\n",
       "      <th></th>\n",
       "      <th>School ID</th>\n",
       "      <th>school_name</th>\n",
       "      <th>type</th>\n",
       "      <th>size</th>\n",
       "      <th>budget</th>\n",
       "    </tr>\n",
       "  </thead>\n",
       "  <tbody>\n",
       "    <tr>\n",
       "      <th>0</th>\n",
       "      <td>0</td>\n",
       "      <td>Huang High School</td>\n",
       "      <td>District</td>\n",
       "      <td>2917</td>\n",
       "      <td>1910635</td>\n",
       "    </tr>\n",
       "    <tr>\n",
       "      <th>1</th>\n",
       "      <td>1</td>\n",
       "      <td>Figueroa High School</td>\n",
       "      <td>District</td>\n",
       "      <td>2949</td>\n",
       "      <td>1884411</td>\n",
       "    </tr>\n",
       "    <tr>\n",
       "      <th>2</th>\n",
       "      <td>2</td>\n",
       "      <td>Shelton High School</td>\n",
       "      <td>Charter</td>\n",
       "      <td>1761</td>\n",
       "      <td>1056600</td>\n",
       "    </tr>\n",
       "    <tr>\n",
       "      <th>3</th>\n",
       "      <td>3</td>\n",
       "      <td>Hernandez High School</td>\n",
       "      <td>District</td>\n",
       "      <td>4635</td>\n",
       "      <td>3022020</td>\n",
       "    </tr>\n",
       "    <tr>\n",
       "      <th>4</th>\n",
       "      <td>4</td>\n",
       "      <td>Griffin High School</td>\n",
       "      <td>Charter</td>\n",
       "      <td>1468</td>\n",
       "      <td>917500</td>\n",
       "    </tr>\n",
       "    <tr>\n",
       "      <th>5</th>\n",
       "      <td>5</td>\n",
       "      <td>Wilson High School</td>\n",
       "      <td>Charter</td>\n",
       "      <td>2283</td>\n",
       "      <td>1319574</td>\n",
       "    </tr>\n",
       "    <tr>\n",
       "      <th>6</th>\n",
       "      <td>6</td>\n",
       "      <td>Cabrera High School</td>\n",
       "      <td>Charter</td>\n",
       "      <td>1858</td>\n",
       "      <td>1081356</td>\n",
       "    </tr>\n",
       "    <tr>\n",
       "      <th>7</th>\n",
       "      <td>7</td>\n",
       "      <td>Bailey High School</td>\n",
       "      <td>District</td>\n",
       "      <td>4976</td>\n",
       "      <td>3124928</td>\n",
       "    </tr>\n",
       "    <tr>\n",
       "      <th>8</th>\n",
       "      <td>8</td>\n",
       "      <td>Holden High School</td>\n",
       "      <td>Charter</td>\n",
       "      <td>427</td>\n",
       "      <td>248087</td>\n",
       "    </tr>\n",
       "    <tr>\n",
       "      <th>9</th>\n",
       "      <td>9</td>\n",
       "      <td>Pena High School</td>\n",
       "      <td>Charter</td>\n",
       "      <td>962</td>\n",
       "      <td>585858</td>\n",
       "    </tr>\n",
       "    <tr>\n",
       "      <th>10</th>\n",
       "      <td>10</td>\n",
       "      <td>Wright High School</td>\n",
       "      <td>Charter</td>\n",
       "      <td>1800</td>\n",
       "      <td>1049400</td>\n",
       "    </tr>\n",
       "    <tr>\n",
       "      <th>11</th>\n",
       "      <td>11</td>\n",
       "      <td>Rodriguez High School</td>\n",
       "      <td>District</td>\n",
       "      <td>3999</td>\n",
       "      <td>2547363</td>\n",
       "    </tr>\n",
       "    <tr>\n",
       "      <th>12</th>\n",
       "      <td>12</td>\n",
       "      <td>Johnson High School</td>\n",
       "      <td>District</td>\n",
       "      <td>4761</td>\n",
       "      <td>3094650</td>\n",
       "    </tr>\n",
       "    <tr>\n",
       "      <th>13</th>\n",
       "      <td>13</td>\n",
       "      <td>Ford High School</td>\n",
       "      <td>District</td>\n",
       "      <td>2739</td>\n",
       "      <td>1763916</td>\n",
       "    </tr>\n",
       "    <tr>\n",
       "      <th>14</th>\n",
       "      <td>14</td>\n",
       "      <td>Thomas High School</td>\n",
       "      <td>Charter</td>\n",
       "      <td>1635</td>\n",
       "      <td>1043130</td>\n",
       "    </tr>\n",
       "  </tbody>\n",
       "</table>\n",
       "</div>"
      ],
      "text/plain": [
       "    School ID            school_name      type  size   budget\n",
       "0           0      Huang High School  District  2917  1910635\n",
       "1           1   Figueroa High School  District  2949  1884411\n",
       "2           2    Shelton High School   Charter  1761  1056600\n",
       "3           3  Hernandez High School  District  4635  3022020\n",
       "4           4    Griffin High School   Charter  1468   917500\n",
       "5           5     Wilson High School   Charter  2283  1319574\n",
       "6           6    Cabrera High School   Charter  1858  1081356\n",
       "7           7     Bailey High School  District  4976  3124928\n",
       "8           8     Holden High School   Charter   427   248087\n",
       "9           9       Pena High School   Charter   962   585858\n",
       "10         10     Wright High School   Charter  1800  1049400\n",
       "11         11  Rodriguez High School  District  3999  2547363\n",
       "12         12    Johnson High School  District  4761  3094650\n",
       "13         13       Ford High School  District  2739  1763916\n",
       "14         14     Thomas High School   Charter  1635  1043130"
      ]
     },
     "execution_count": 175,
     "metadata": {},
     "output_type": "execute_result"
    }
   ],
   "source": [
    "# Read the School Data File\n",
    "# Now we'll read each CSV file with the Pandas function read_csv(). \n",
    "# Inside this function, we'll add the file we want to read, \n",
    "# which is one of many parameters that we can add to this function.\n",
    "\n",
    "# Next step (below):\n",
    "\n",
    "# The code below  to a new cell and run the cell \n",
    "# will allow us to read schools_complete.csv and store it in a DataFrame.\n",
    "\n",
    "# Read the school data file and store it in a Pandas DataFrame.\n",
    "school_data_df = pd.read_csv(school_data_to_load)\n",
    "school_data_df"
   ]
  },
  {
   "cell_type": "code",
   "execution_count": 176,
   "id": "b2aa898a",
   "metadata": {},
   "outputs": [
    {
     "data": {
      "text/html": [
       "<div>\n",
       "<style scoped>\n",
       "    .dataframe tbody tr th:only-of-type {\n",
       "        vertical-align: middle;\n",
       "    }\n",
       "\n",
       "    .dataframe tbody tr th {\n",
       "        vertical-align: top;\n",
       "    }\n",
       "\n",
       "    .dataframe thead th {\n",
       "        text-align: right;\n",
       "    }\n",
       "</style>\n",
       "<table border=\"1\" class=\"dataframe\">\n",
       "  <thead>\n",
       "    <tr style=\"text-align: right;\">\n",
       "      <th></th>\n",
       "      <th>Student ID</th>\n",
       "      <th>student_name</th>\n",
       "      <th>gender</th>\n",
       "      <th>grade</th>\n",
       "      <th>school_name</th>\n",
       "      <th>reading_score</th>\n",
       "      <th>math_score</th>\n",
       "    </tr>\n",
       "  </thead>\n",
       "  <tbody>\n",
       "    <tr>\n",
       "      <th>0</th>\n",
       "      <td>0</td>\n",
       "      <td>Paul Bradley</td>\n",
       "      <td>M</td>\n",
       "      <td>9th</td>\n",
       "      <td>Huang High School</td>\n",
       "      <td>66</td>\n",
       "      <td>79</td>\n",
       "    </tr>\n",
       "    <tr>\n",
       "      <th>1</th>\n",
       "      <td>1</td>\n",
       "      <td>Victor Smith</td>\n",
       "      <td>M</td>\n",
       "      <td>12th</td>\n",
       "      <td>Huang High School</td>\n",
       "      <td>94</td>\n",
       "      <td>61</td>\n",
       "    </tr>\n",
       "    <tr>\n",
       "      <th>2</th>\n",
       "      <td>2</td>\n",
       "      <td>Kevin Rodriguez</td>\n",
       "      <td>M</td>\n",
       "      <td>12th</td>\n",
       "      <td>Huang High School</td>\n",
       "      <td>90</td>\n",
       "      <td>60</td>\n",
       "    </tr>\n",
       "    <tr>\n",
       "      <th>3</th>\n",
       "      <td>3</td>\n",
       "      <td>Dr. Richard Scott</td>\n",
       "      <td>M</td>\n",
       "      <td>12th</td>\n",
       "      <td>Huang High School</td>\n",
       "      <td>67</td>\n",
       "      <td>58</td>\n",
       "    </tr>\n",
       "    <tr>\n",
       "      <th>4</th>\n",
       "      <td>4</td>\n",
       "      <td>Bonnie Ray</td>\n",
       "      <td>F</td>\n",
       "      <td>9th</td>\n",
       "      <td>Huang High School</td>\n",
       "      <td>97</td>\n",
       "      <td>84</td>\n",
       "    </tr>\n",
       "  </tbody>\n",
       "</table>\n",
       "</div>"
      ],
      "text/plain": [
       "   Student ID       student_name gender grade        school_name  \\\n",
       "0           0       Paul Bradley      M   9th  Huang High School   \n",
       "1           1       Victor Smith      M  12th  Huang High School   \n",
       "2           2    Kevin Rodriguez      M  12th  Huang High School   \n",
       "3           3  Dr. Richard Scott      M  12th  Huang High School   \n",
       "4           4         Bonnie Ray      F   9th  Huang High School   \n",
       "\n",
       "   reading_score  math_score  \n",
       "0             66          79  \n",
       "1             94          61  \n",
       "2             90          60  \n",
       "3             67          58  \n",
       "4             97          84  "
      ]
     },
     "execution_count": 176,
     "metadata": {},
     "output_type": "execute_result"
    }
   ],
   "source": [
    "# Read the Student Data File\n",
    "# Now we'll read the student data file and store it in a Pandas DataFrame by adding the following code to a new cell:\n",
    "\n",
    "# Read the student data file and store it in a Pandas DataFrame.\n",
    "student_data_df = pd.read_csv(student_data_to_load)\n",
    "student_data_df.head()"
   ]
  },
  {
   "cell_type": "code",
   "execution_count": 177,
   "id": "825620f1",
   "metadata": {},
   "outputs": [],
   "source": [
    "# Per Module 4.4.4: Commit Your Code: Save PySchools.ipynb to\n",
    "# School_District_Analysis folder (make sure the Resources folder containing\n",
    "# the CSV files is also in the School_District_Analysis folder).\n",
    "\n",
    "# Instructions on how to commit code in Module 4.4.4 (refer to the module).\n",
    "# https://courses.bootcampspot.com/courses/1225/pages/4-dot-4-4-commit-your-code?module_item_id=497366"
   ]
  },
  {
   "cell_type": "code",
   "execution_count": 178,
   "id": "8754d97b",
   "metadata": {},
   "outputs": [],
   "source": [
    "# Module 4.5.1: Find Missing Values.\n",
    "# The count() Method\n",
    "# With the count() method, we can get a count of the rows for each column containing data. By default, \"null\" values are not counted, so you can often quickly identify which columns have missing data.\n",
    "\n",
    "# Let's use the count() method on the school_data_df DataFrame. Add the following code to a new cell and run the cell:\n",
    "\n",
    "# Determine if there are any missing values in the school data.\n",
    "# (Cell below): school_data_df.count()"
   ]
  },
  {
   "cell_type": "code",
   "execution_count": 179,
   "id": "984f1623",
   "metadata": {
    "scrolled": false
   },
   "outputs": [
    {
     "data": {
      "text/plain": [
       "School ID      15\n",
       "school_name    15\n",
       "type           15\n",
       "size           15\n",
       "budget         15\n",
       "dtype: int64"
      ]
     },
     "execution_count": 179,
     "metadata": {},
     "output_type": "execute_result"
    }
   ],
   "source": [
    "school_data_df.count()"
   ]
  },
  {
   "cell_type": "code",
   "execution_count": 180,
   "id": "4d2f84dd",
   "metadata": {},
   "outputs": [],
   "source": [
    "# ^^^ (Cell above: no missing values.)\n",
    "# Do the same with student_complete.csv (below)"
   ]
  },
  {
   "cell_type": "code",
   "execution_count": 181,
   "id": "f78ef119",
   "metadata": {},
   "outputs": [
    {
     "data": {
      "text/plain": [
       "Student ID       39170\n",
       "student_name     39170\n",
       "gender           39170\n",
       "grade            39170\n",
       "school_name      39170\n",
       "reading_score    39170\n",
       "math_score       39170\n",
       "dtype: int64"
      ]
     },
     "execution_count": 181,
     "metadata": {},
     "output_type": "execute_result"
    }
   ],
   "source": [
    "student_data_df.count()"
   ]
  },
  {
   "cell_type": "code",
   "execution_count": 182,
   "id": "bab189c1",
   "metadata": {},
   "outputs": [],
   "source": [
    "# ^^^ (Cell above: no missing values.)"
   ]
  },
  {
   "cell_type": "code",
   "execution_count": 183,
   "id": "f5057450",
   "metadata": {},
   "outputs": [],
   "source": [
    "# The isnull() Method (applied to the cell below):\n",
    "# The Pandas library also has the isnull() method for determining empty rows. When you apply the isnull() method to a column, Series, or a DataFrame, a Boolean value will be returned, either \"True\" for the row or rows that are empty, i.e., null, or \"False\" for the rows that are not empty.\n",
    "\n",
    "# Let's use the isnull() method on the school_data_df DataFrame.\n",
    "\n",
    "# Determine if there are any missing values in the school data.\n",
    "# school_data_df.isnull()\n",
    "# When we execute this code, we see that every row that is not empty is given the Boolean value \"False,\" which tells us that there are no missing values."
   ]
  },
  {
   "cell_type": "code",
   "execution_count": 184,
   "id": "93539d6c",
   "metadata": {
    "scrolled": true
   },
   "outputs": [
    {
     "data": {
      "text/html": [
       "<div>\n",
       "<style scoped>\n",
       "    .dataframe tbody tr th:only-of-type {\n",
       "        vertical-align: middle;\n",
       "    }\n",
       "\n",
       "    .dataframe tbody tr th {\n",
       "        vertical-align: top;\n",
       "    }\n",
       "\n",
       "    .dataframe thead th {\n",
       "        text-align: right;\n",
       "    }\n",
       "</style>\n",
       "<table border=\"1\" class=\"dataframe\">\n",
       "  <thead>\n",
       "    <tr style=\"text-align: right;\">\n",
       "      <th></th>\n",
       "      <th>School ID</th>\n",
       "      <th>school_name</th>\n",
       "      <th>type</th>\n",
       "      <th>size</th>\n",
       "      <th>budget</th>\n",
       "    </tr>\n",
       "  </thead>\n",
       "  <tbody>\n",
       "    <tr>\n",
       "      <th>0</th>\n",
       "      <td>False</td>\n",
       "      <td>False</td>\n",
       "      <td>False</td>\n",
       "      <td>False</td>\n",
       "      <td>False</td>\n",
       "    </tr>\n",
       "    <tr>\n",
       "      <th>1</th>\n",
       "      <td>False</td>\n",
       "      <td>False</td>\n",
       "      <td>False</td>\n",
       "      <td>False</td>\n",
       "      <td>False</td>\n",
       "    </tr>\n",
       "    <tr>\n",
       "      <th>2</th>\n",
       "      <td>False</td>\n",
       "      <td>False</td>\n",
       "      <td>False</td>\n",
       "      <td>False</td>\n",
       "      <td>False</td>\n",
       "    </tr>\n",
       "    <tr>\n",
       "      <th>3</th>\n",
       "      <td>False</td>\n",
       "      <td>False</td>\n",
       "      <td>False</td>\n",
       "      <td>False</td>\n",
       "      <td>False</td>\n",
       "    </tr>\n",
       "    <tr>\n",
       "      <th>4</th>\n",
       "      <td>False</td>\n",
       "      <td>False</td>\n",
       "      <td>False</td>\n",
       "      <td>False</td>\n",
       "      <td>False</td>\n",
       "    </tr>\n",
       "    <tr>\n",
       "      <th>5</th>\n",
       "      <td>False</td>\n",
       "      <td>False</td>\n",
       "      <td>False</td>\n",
       "      <td>False</td>\n",
       "      <td>False</td>\n",
       "    </tr>\n",
       "    <tr>\n",
       "      <th>6</th>\n",
       "      <td>False</td>\n",
       "      <td>False</td>\n",
       "      <td>False</td>\n",
       "      <td>False</td>\n",
       "      <td>False</td>\n",
       "    </tr>\n",
       "    <tr>\n",
       "      <th>7</th>\n",
       "      <td>False</td>\n",
       "      <td>False</td>\n",
       "      <td>False</td>\n",
       "      <td>False</td>\n",
       "      <td>False</td>\n",
       "    </tr>\n",
       "    <tr>\n",
       "      <th>8</th>\n",
       "      <td>False</td>\n",
       "      <td>False</td>\n",
       "      <td>False</td>\n",
       "      <td>False</td>\n",
       "      <td>False</td>\n",
       "    </tr>\n",
       "    <tr>\n",
       "      <th>9</th>\n",
       "      <td>False</td>\n",
       "      <td>False</td>\n",
       "      <td>False</td>\n",
       "      <td>False</td>\n",
       "      <td>False</td>\n",
       "    </tr>\n",
       "    <tr>\n",
       "      <th>10</th>\n",
       "      <td>False</td>\n",
       "      <td>False</td>\n",
       "      <td>False</td>\n",
       "      <td>False</td>\n",
       "      <td>False</td>\n",
       "    </tr>\n",
       "    <tr>\n",
       "      <th>11</th>\n",
       "      <td>False</td>\n",
       "      <td>False</td>\n",
       "      <td>False</td>\n",
       "      <td>False</td>\n",
       "      <td>False</td>\n",
       "    </tr>\n",
       "    <tr>\n",
       "      <th>12</th>\n",
       "      <td>False</td>\n",
       "      <td>False</td>\n",
       "      <td>False</td>\n",
       "      <td>False</td>\n",
       "      <td>False</td>\n",
       "    </tr>\n",
       "    <tr>\n",
       "      <th>13</th>\n",
       "      <td>False</td>\n",
       "      <td>False</td>\n",
       "      <td>False</td>\n",
       "      <td>False</td>\n",
       "      <td>False</td>\n",
       "    </tr>\n",
       "    <tr>\n",
       "      <th>14</th>\n",
       "      <td>False</td>\n",
       "      <td>False</td>\n",
       "      <td>False</td>\n",
       "      <td>False</td>\n",
       "      <td>False</td>\n",
       "    </tr>\n",
       "  </tbody>\n",
       "</table>\n",
       "</div>"
      ],
      "text/plain": [
       "    School ID  school_name   type   size  budget\n",
       "0       False        False  False  False   False\n",
       "1       False        False  False  False   False\n",
       "2       False        False  False  False   False\n",
       "3       False        False  False  False   False\n",
       "4       False        False  False  False   False\n",
       "5       False        False  False  False   False\n",
       "6       False        False  False  False   False\n",
       "7       False        False  False  False   False\n",
       "8       False        False  False  False   False\n",
       "9       False        False  False  False   False\n",
       "10      False        False  False  False   False\n",
       "11      False        False  False  False   False\n",
       "12      False        False  False  False   False\n",
       "13      False        False  False  False   False\n",
       "14      False        False  False  False   False"
      ]
     },
     "execution_count": 184,
     "metadata": {},
     "output_type": "execute_result"
    }
   ],
   "source": [
    "school_data_df.isnull()"
   ]
  },
  {
   "cell_type": "code",
   "execution_count": 185,
   "id": "bee426c6",
   "metadata": {},
   "outputs": [
    {
     "data": {
      "text/html": [
       "<div>\n",
       "<style scoped>\n",
       "    .dataframe tbody tr th:only-of-type {\n",
       "        vertical-align: middle;\n",
       "    }\n",
       "\n",
       "    .dataframe tbody tr th {\n",
       "        vertical-align: top;\n",
       "    }\n",
       "\n",
       "    .dataframe thead th {\n",
       "        text-align: right;\n",
       "    }\n",
       "</style>\n",
       "<table border=\"1\" class=\"dataframe\">\n",
       "  <thead>\n",
       "    <tr style=\"text-align: right;\">\n",
       "      <th></th>\n",
       "      <th>Student ID</th>\n",
       "      <th>student_name</th>\n",
       "      <th>gender</th>\n",
       "      <th>grade</th>\n",
       "      <th>school_name</th>\n",
       "      <th>reading_score</th>\n",
       "      <th>math_score</th>\n",
       "    </tr>\n",
       "  </thead>\n",
       "  <tbody>\n",
       "    <tr>\n",
       "      <th>0</th>\n",
       "      <td>False</td>\n",
       "      <td>False</td>\n",
       "      <td>False</td>\n",
       "      <td>False</td>\n",
       "      <td>False</td>\n",
       "      <td>False</td>\n",
       "      <td>False</td>\n",
       "    </tr>\n",
       "    <tr>\n",
       "      <th>1</th>\n",
       "      <td>False</td>\n",
       "      <td>False</td>\n",
       "      <td>False</td>\n",
       "      <td>False</td>\n",
       "      <td>False</td>\n",
       "      <td>False</td>\n",
       "      <td>False</td>\n",
       "    </tr>\n",
       "    <tr>\n",
       "      <th>2</th>\n",
       "      <td>False</td>\n",
       "      <td>False</td>\n",
       "      <td>False</td>\n",
       "      <td>False</td>\n",
       "      <td>False</td>\n",
       "      <td>False</td>\n",
       "      <td>False</td>\n",
       "    </tr>\n",
       "    <tr>\n",
       "      <th>3</th>\n",
       "      <td>False</td>\n",
       "      <td>False</td>\n",
       "      <td>False</td>\n",
       "      <td>False</td>\n",
       "      <td>False</td>\n",
       "      <td>False</td>\n",
       "      <td>False</td>\n",
       "    </tr>\n",
       "    <tr>\n",
       "      <th>4</th>\n",
       "      <td>False</td>\n",
       "      <td>False</td>\n",
       "      <td>False</td>\n",
       "      <td>False</td>\n",
       "      <td>False</td>\n",
       "      <td>False</td>\n",
       "      <td>False</td>\n",
       "    </tr>\n",
       "    <tr>\n",
       "      <th>...</th>\n",
       "      <td>...</td>\n",
       "      <td>...</td>\n",
       "      <td>...</td>\n",
       "      <td>...</td>\n",
       "      <td>...</td>\n",
       "      <td>...</td>\n",
       "      <td>...</td>\n",
       "    </tr>\n",
       "    <tr>\n",
       "      <th>39165</th>\n",
       "      <td>False</td>\n",
       "      <td>False</td>\n",
       "      <td>False</td>\n",
       "      <td>False</td>\n",
       "      <td>False</td>\n",
       "      <td>False</td>\n",
       "      <td>False</td>\n",
       "    </tr>\n",
       "    <tr>\n",
       "      <th>39166</th>\n",
       "      <td>False</td>\n",
       "      <td>False</td>\n",
       "      <td>False</td>\n",
       "      <td>False</td>\n",
       "      <td>False</td>\n",
       "      <td>False</td>\n",
       "      <td>False</td>\n",
       "    </tr>\n",
       "    <tr>\n",
       "      <th>39167</th>\n",
       "      <td>False</td>\n",
       "      <td>False</td>\n",
       "      <td>False</td>\n",
       "      <td>False</td>\n",
       "      <td>False</td>\n",
       "      <td>False</td>\n",
       "      <td>False</td>\n",
       "    </tr>\n",
       "    <tr>\n",
       "      <th>39168</th>\n",
       "      <td>False</td>\n",
       "      <td>False</td>\n",
       "      <td>False</td>\n",
       "      <td>False</td>\n",
       "      <td>False</td>\n",
       "      <td>False</td>\n",
       "      <td>False</td>\n",
       "    </tr>\n",
       "    <tr>\n",
       "      <th>39169</th>\n",
       "      <td>False</td>\n",
       "      <td>False</td>\n",
       "      <td>False</td>\n",
       "      <td>False</td>\n",
       "      <td>False</td>\n",
       "      <td>False</td>\n",
       "      <td>False</td>\n",
       "    </tr>\n",
       "  </tbody>\n",
       "</table>\n",
       "<p>39170 rows × 7 columns</p>\n",
       "</div>"
      ],
      "text/plain": [
       "       Student ID  student_name  gender  grade  school_name  reading_score  \\\n",
       "0           False         False   False  False        False          False   \n",
       "1           False         False   False  False        False          False   \n",
       "2           False         False   False  False        False          False   \n",
       "3           False         False   False  False        False          False   \n",
       "4           False         False   False  False        False          False   \n",
       "...           ...           ...     ...    ...          ...            ...   \n",
       "39165       False         False   False  False        False          False   \n",
       "39166       False         False   False  False        False          False   \n",
       "39167       False         False   False  False        False          False   \n",
       "39168       False         False   False  False        False          False   \n",
       "39169       False         False   False  False        False          False   \n",
       "\n",
       "       math_score  \n",
       "0           False  \n",
       "1           False  \n",
       "2           False  \n",
       "3           False  \n",
       "4           False  \n",
       "...           ...  \n",
       "39165       False  \n",
       "39166       False  \n",
       "39167       False  \n",
       "39168       False  \n",
       "39169       False  \n",
       "\n",
       "[39170 rows x 7 columns]"
      ]
     },
     "execution_count": 185,
     "metadata": {},
     "output_type": "execute_result"
    }
   ],
   "source": [
    "# Determine if there are any missing values in the student data.\n",
    "student_data_df.isnull()"
   ]
  },
  {
   "cell_type": "code",
   "execution_count": 186,
   "id": "a67bab5b",
   "metadata": {
    "scrolled": true
   },
   "outputs": [
    {
     "data": {
      "text/plain": [
       "Student ID       0\n",
       "student_name     0\n",
       "gender           0\n",
       "grade            0\n",
       "school_name      0\n",
       "reading_score    0\n",
       "math_score       0\n",
       "dtype: int64"
      ]
     },
     "execution_count": 186,
     "metadata": {},
     "output_type": "execute_result"
    }
   ],
   "source": [
    "# To get the total number of empty rows, or rows that are \"True,\" we can use the Pandas sum() method after the isnull() method, like this:\n",
    "\n",
    "# Determine if there are any missing values in the student data.\n",
    "student_data_df.isnull().sum()"
   ]
  },
  {
   "cell_type": "code",
   "execution_count": 187,
   "id": "fc748972",
   "metadata": {},
   "outputs": [],
   "source": [
    "# ^^^ (Cell above): This output allows us to more easily determine at a glance how many rows are empty in the student_data_df DataFrame (zero). This is more straightforward than output that shows \"False\" in thousands of rows."
   ]
  },
  {
   "cell_type": "code",
   "execution_count": 188,
   "id": "bad51672",
   "metadata": {},
   "outputs": [
    {
     "data": {
      "text/html": [
       "<div>\n",
       "<style scoped>\n",
       "    .dataframe tbody tr th:only-of-type {\n",
       "        vertical-align: middle;\n",
       "    }\n",
       "\n",
       "    .dataframe tbody tr th {\n",
       "        vertical-align: top;\n",
       "    }\n",
       "\n",
       "    .dataframe thead th {\n",
       "        text-align: right;\n",
       "    }\n",
       "</style>\n",
       "<table border=\"1\" class=\"dataframe\">\n",
       "  <thead>\n",
       "    <tr style=\"text-align: right;\">\n",
       "      <th></th>\n",
       "      <th>School ID</th>\n",
       "      <th>school_name</th>\n",
       "      <th>type</th>\n",
       "      <th>size</th>\n",
       "      <th>budget</th>\n",
       "    </tr>\n",
       "  </thead>\n",
       "  <tbody>\n",
       "    <tr>\n",
       "      <th>0</th>\n",
       "      <td>True</td>\n",
       "      <td>True</td>\n",
       "      <td>True</td>\n",
       "      <td>True</td>\n",
       "      <td>True</td>\n",
       "    </tr>\n",
       "    <tr>\n",
       "      <th>1</th>\n",
       "      <td>True</td>\n",
       "      <td>True</td>\n",
       "      <td>True</td>\n",
       "      <td>True</td>\n",
       "      <td>True</td>\n",
       "    </tr>\n",
       "    <tr>\n",
       "      <th>2</th>\n",
       "      <td>True</td>\n",
       "      <td>True</td>\n",
       "      <td>True</td>\n",
       "      <td>True</td>\n",
       "      <td>True</td>\n",
       "    </tr>\n",
       "    <tr>\n",
       "      <th>3</th>\n",
       "      <td>True</td>\n",
       "      <td>True</td>\n",
       "      <td>True</td>\n",
       "      <td>True</td>\n",
       "      <td>True</td>\n",
       "    </tr>\n",
       "    <tr>\n",
       "      <th>4</th>\n",
       "      <td>True</td>\n",
       "      <td>True</td>\n",
       "      <td>True</td>\n",
       "      <td>True</td>\n",
       "      <td>True</td>\n",
       "    </tr>\n",
       "    <tr>\n",
       "      <th>5</th>\n",
       "      <td>True</td>\n",
       "      <td>True</td>\n",
       "      <td>True</td>\n",
       "      <td>True</td>\n",
       "      <td>True</td>\n",
       "    </tr>\n",
       "    <tr>\n",
       "      <th>6</th>\n",
       "      <td>True</td>\n",
       "      <td>True</td>\n",
       "      <td>True</td>\n",
       "      <td>True</td>\n",
       "      <td>True</td>\n",
       "    </tr>\n",
       "    <tr>\n",
       "      <th>7</th>\n",
       "      <td>True</td>\n",
       "      <td>True</td>\n",
       "      <td>True</td>\n",
       "      <td>True</td>\n",
       "      <td>True</td>\n",
       "    </tr>\n",
       "    <tr>\n",
       "      <th>8</th>\n",
       "      <td>True</td>\n",
       "      <td>True</td>\n",
       "      <td>True</td>\n",
       "      <td>True</td>\n",
       "      <td>True</td>\n",
       "    </tr>\n",
       "    <tr>\n",
       "      <th>9</th>\n",
       "      <td>True</td>\n",
       "      <td>True</td>\n",
       "      <td>True</td>\n",
       "      <td>True</td>\n",
       "      <td>True</td>\n",
       "    </tr>\n",
       "    <tr>\n",
       "      <th>10</th>\n",
       "      <td>True</td>\n",
       "      <td>True</td>\n",
       "      <td>True</td>\n",
       "      <td>True</td>\n",
       "      <td>True</td>\n",
       "    </tr>\n",
       "    <tr>\n",
       "      <th>11</th>\n",
       "      <td>True</td>\n",
       "      <td>True</td>\n",
       "      <td>True</td>\n",
       "      <td>True</td>\n",
       "      <td>True</td>\n",
       "    </tr>\n",
       "    <tr>\n",
       "      <th>12</th>\n",
       "      <td>True</td>\n",
       "      <td>True</td>\n",
       "      <td>True</td>\n",
       "      <td>True</td>\n",
       "      <td>True</td>\n",
       "    </tr>\n",
       "    <tr>\n",
       "      <th>13</th>\n",
       "      <td>True</td>\n",
       "      <td>True</td>\n",
       "      <td>True</td>\n",
       "      <td>True</td>\n",
       "      <td>True</td>\n",
       "    </tr>\n",
       "    <tr>\n",
       "      <th>14</th>\n",
       "      <td>True</td>\n",
       "      <td>True</td>\n",
       "      <td>True</td>\n",
       "      <td>True</td>\n",
       "      <td>True</td>\n",
       "    </tr>\n",
       "  </tbody>\n",
       "</table>\n",
       "</div>"
      ],
      "text/plain": [
       "    School ID  school_name  type  size  budget\n",
       "0        True         True  True  True    True\n",
       "1        True         True  True  True    True\n",
       "2        True         True  True  True    True\n",
       "3        True         True  True  True    True\n",
       "4        True         True  True  True    True\n",
       "5        True         True  True  True    True\n",
       "6        True         True  True  True    True\n",
       "7        True         True  True  True    True\n",
       "8        True         True  True  True    True\n",
       "9        True         True  True  True    True\n",
       "10       True         True  True  True    True\n",
       "11       True         True  True  True    True\n",
       "12       True         True  True  True    True\n",
       "13       True         True  True  True    True\n",
       "14       True         True  True  True    True"
      ]
     },
     "execution_count": 188,
     "metadata": {},
     "output_type": "execute_result"
    }
   ],
   "source": [
    "#The notnull() Method\n",
    "#Another method that we can use to find missing values is the notnull() method. When you apply the notnull() method to a column, Series, or a DataFrame, a Boolean will be returned: \"True\" for the row or rows that are not empty, or \"False\" for the row or rows that are empty. This method returns the opposite output of the isnull() method.\n",
    "\n",
    "# Determine if there are not any missing values in the school data.\n",
    "school_data_df.notnull()"
   ]
  },
  {
   "cell_type": "code",
   "execution_count": 189,
   "id": "62cbf746",
   "metadata": {},
   "outputs": [],
   "source": [
    "# ^^^ (Cell above): When we run this code, the output returns a copy of our school_data_df DataFrame, where all the rows that do not have any missing values are labeled \"True.\" See the following image."
   ]
  },
  {
   "cell_type": "code",
   "execution_count": 190,
   "id": "54cfb5b4",
   "metadata": {
    "scrolled": true
   },
   "outputs": [
    {
     "data": {
      "text/plain": [
       "Student ID       39170\n",
       "student_name     39170\n",
       "gender           39170\n",
       "grade            39170\n",
       "school_name      39170\n",
       "reading_score    39170\n",
       "math_score       39170\n",
       "dtype: int64"
      ]
     },
     "execution_count": 190,
     "metadata": {},
     "output_type": "execute_result"
    }
   ],
   "source": [
    "#Like we did with the student_data_df DataFrame, we can chain the notnull() method and the sum() method to get the sum of all the columns that are \"True.\"\n",
    "\n",
    "# Determine if there are not any missing values in the student data.\n",
    "student_data_df.notnull().sum()"
   ]
  },
  {
   "cell_type": "code",
   "execution_count": 191,
   "id": "7d53d3a3",
   "metadata": {},
   "outputs": [],
   "source": [
    "# ^^^ (Cell above): When we execute this code, we get the number of rows that are not null, which is 39,170 for each column."
   ]
  },
  {
   "cell_type": "code",
   "execution_count": 192,
   "id": "82538860",
   "metadata": {},
   "outputs": [],
   "source": [
    "# Module 4.5.3: Determine Data Types\n",
    "\n",
    "# Data type: Boolean; Pandas name: bool; example: \"True and False\"\n",
    "# Data type: Object; Pandas name: O, object; example: Typically strings; often used as a catchall for columns with different data types or other Python objects like tuples, lists, and dictionaries\n",
    "# # Data type: datetime; Pandas name: datetime64; example: Specific moment in time with nanosecond precision, i.e., 2019-06-03 16:04:00.465107\n",
    "\n",
    "# If integers store values from –32,768 to 32,767, they are 16 bits or int16.\n",
    "# If integer store values from –2,147,483,648 to 2,147,483,647, they are 32 bits or int32.\n",
    "# If integer store values from–9,223,372,036,854,775,808 to 9,223,372,036,854,775,807, they are 64 bits, or int64. \n",
    "\n",
    "# With the Pandas library, we can check the data types of each column by using the Pandas dtypes attribute on a DataFrame.\n",
    "\n",
    "# To determine the data types in school_data.csv, type and run the following code (refer to cell below):"
   ]
  },
  {
   "cell_type": "code",
   "execution_count": 193,
   "id": "dc3494ac",
   "metadata": {},
   "outputs": [
    {
     "data": {
      "text/plain": [
       "School ID       int64\n",
       "school_name    object\n",
       "type           object\n",
       "size            int64\n",
       "budget          int64\n",
       "dtype: object"
      ]
     },
     "execution_count": 193,
     "metadata": {},
     "output_type": "execute_result"
    }
   ],
   "source": [
    "school_data_df.dtypes"
   ]
  },
  {
   "cell_type": "code",
   "execution_count": 194,
   "id": "80fca562",
   "metadata": {},
   "outputs": [
    {
     "data": {
      "text/plain": [
       "dtype('int64')"
      ]
     },
     "execution_count": 194,
     "metadata": {},
     "output_type": "execute_result"
    }
   ],
   "source": [
    "school_data_df[\"budget\"].dtype"
   ]
  },
  {
   "cell_type": "code",
   "execution_count": 195,
   "id": "1e7f9fe2",
   "metadata": {},
   "outputs": [],
   "source": [
    "# Module 4.5.7 (Fix the Students' Names): CODE NOT WORKING\n",
    "\n",
    "# Add each prefix and suffix to remove to a list.\n",
    "# CODE WORKS: prefixes_suffixes = [\"Dr. \", \"Mr. \",\"Ms. \", \"Mrs. \", \"Miss \", \" MD\", \" DDS\", \" DVM\", \" PhD\"]\n",
    "\n",
    "# Iterate through the words in the \"prefixes_suffixes\" list and replace them with an empty space, \"\".\n",
    "# CODE DOES NOT WORK: for word in prefixes_suffixes:\n",
    "# CODE DOES NOT WORK: student_data_df[\"student_name\"] = student_data_df[\"student_name\"].str.replace(word,\"\")\n",
    "\n",
    "# file was commited onto GitHub (with this cell of code commented out; commented out for future reference)\n",
    "\n",
    "# Module 4.6.1: instructions to download clean_students_complete.csv and save into Resources folder\n",
    "\n",
    "# Continued onto module 4.7.1 below:"
   ]
  },
  {
   "cell_type": "code",
   "execution_count": 196,
   "id": "ded639ea",
   "metadata": {},
   "outputs": [],
   "source": [
    "# Module 4.7.1 (Merge DataFrames):\n",
    "\n",
    "# To merge two DataFrames, there must be a column in each of the DataFrames with the same name. So before we merge, let's review the column names in each DataFrame.\n",
    "\n",
    "# The columns in school_data_df are:\n",
    "# School ID\n",
    "# school_name\n",
    "# type\n",
    "# size\n",
    "# budget\n",
    "\n",
    "# The columns in the student_data_df are:\n",
    "# Student ID\n",
    "# student_name\n",
    "# gender\n",
    "# grade\n",
    "# school_name\n",
    "# reading_score\n",
    "# math_score\n",
    "\n",
    "# We'll merge school_data_df and student_data_dfon a shared column using the merge() method. The column that these DataFrames have in common is school_name. Inside the parentheses of the merge() method, we'll do the following:\n",
    "\n",
    "# Add the DataFrames to be merged.\n",
    "# Add the shared column to each DataFrame so that the merge can occur.\n",
    "# Define how the DataFrames should be merged: left, right, inner, or outer. The default is inner. (You will learn more about merging later in this course.)"
   ]
  },
  {
   "cell_type": "code",
   "execution_count": 197,
   "id": "a5808483",
   "metadata": {},
   "outputs": [
    {
     "data": {
      "text/html": [
       "<div>\n",
       "<style scoped>\n",
       "    .dataframe tbody tr th:only-of-type {\n",
       "        vertical-align: middle;\n",
       "    }\n",
       "\n",
       "    .dataframe tbody tr th {\n",
       "        vertical-align: top;\n",
       "    }\n",
       "\n",
       "    .dataframe thead th {\n",
       "        text-align: right;\n",
       "    }\n",
       "</style>\n",
       "<table border=\"1\" class=\"dataframe\">\n",
       "  <thead>\n",
       "    <tr style=\"text-align: right;\">\n",
       "      <th></th>\n",
       "      <th>Student ID</th>\n",
       "      <th>student_name</th>\n",
       "      <th>gender</th>\n",
       "      <th>grade</th>\n",
       "      <th>school_name</th>\n",
       "      <th>reading_score</th>\n",
       "      <th>math_score</th>\n",
       "      <th>School ID</th>\n",
       "      <th>type</th>\n",
       "      <th>size</th>\n",
       "      <th>budget</th>\n",
       "    </tr>\n",
       "  </thead>\n",
       "  <tbody>\n",
       "    <tr>\n",
       "      <th>0</th>\n",
       "      <td>0</td>\n",
       "      <td>Paul Bradley</td>\n",
       "      <td>M</td>\n",
       "      <td>9th</td>\n",
       "      <td>Huang High School</td>\n",
       "      <td>66</td>\n",
       "      <td>79</td>\n",
       "      <td>0</td>\n",
       "      <td>District</td>\n",
       "      <td>2917</td>\n",
       "      <td>1910635</td>\n",
       "    </tr>\n",
       "    <tr>\n",
       "      <th>1</th>\n",
       "      <td>1</td>\n",
       "      <td>Victor Smith</td>\n",
       "      <td>M</td>\n",
       "      <td>12th</td>\n",
       "      <td>Huang High School</td>\n",
       "      <td>94</td>\n",
       "      <td>61</td>\n",
       "      <td>0</td>\n",
       "      <td>District</td>\n",
       "      <td>2917</td>\n",
       "      <td>1910635</td>\n",
       "    </tr>\n",
       "    <tr>\n",
       "      <th>2</th>\n",
       "      <td>2</td>\n",
       "      <td>Kevin Rodriguez</td>\n",
       "      <td>M</td>\n",
       "      <td>12th</td>\n",
       "      <td>Huang High School</td>\n",
       "      <td>90</td>\n",
       "      <td>60</td>\n",
       "      <td>0</td>\n",
       "      <td>District</td>\n",
       "      <td>2917</td>\n",
       "      <td>1910635</td>\n",
       "    </tr>\n",
       "    <tr>\n",
       "      <th>3</th>\n",
       "      <td>3</td>\n",
       "      <td>Dr. Richard Scott</td>\n",
       "      <td>M</td>\n",
       "      <td>12th</td>\n",
       "      <td>Huang High School</td>\n",
       "      <td>67</td>\n",
       "      <td>58</td>\n",
       "      <td>0</td>\n",
       "      <td>District</td>\n",
       "      <td>2917</td>\n",
       "      <td>1910635</td>\n",
       "    </tr>\n",
       "    <tr>\n",
       "      <th>4</th>\n",
       "      <td>4</td>\n",
       "      <td>Bonnie Ray</td>\n",
       "      <td>F</td>\n",
       "      <td>9th</td>\n",
       "      <td>Huang High School</td>\n",
       "      <td>97</td>\n",
       "      <td>84</td>\n",
       "      <td>0</td>\n",
       "      <td>District</td>\n",
       "      <td>2917</td>\n",
       "      <td>1910635</td>\n",
       "    </tr>\n",
       "  </tbody>\n",
       "</table>\n",
       "</div>"
      ],
      "text/plain": [
       "   Student ID       student_name gender grade        school_name  \\\n",
       "0           0       Paul Bradley      M   9th  Huang High School   \n",
       "1           1       Victor Smith      M  12th  Huang High School   \n",
       "2           2    Kevin Rodriguez      M  12th  Huang High School   \n",
       "3           3  Dr. Richard Scott      M  12th  Huang High School   \n",
       "4           4         Bonnie Ray      F   9th  Huang High School   \n",
       "\n",
       "   reading_score  math_score  School ID      type  size   budget  \n",
       "0             66          79          0  District  2917  1910635  \n",
       "1             94          61          0  District  2917  1910635  \n",
       "2             90          60          0  District  2917  1910635  \n",
       "3             67          58          0  District  2917  1910635  \n",
       "4             97          84          0  District  2917  1910635  "
      ]
     },
     "execution_count": 197,
     "metadata": {},
     "output_type": "execute_result"
    }
   ],
   "source": [
    "# Combine the data into a single dataset.\n",
    "school_data_complete_df = pd.merge(student_data_df, school_data_df, on=[\"school_name\", \"school_name\"])\n",
    "school_data_complete_df.head()\n",
    "\n",
    "# Let's break down how the DataFrames are being merged with this code.\n",
    "\n",
    "# We create a new DataFrame for the merged DataFrames, called school_data_complete_df.\n",
    "# The new DataFrame is created as a result of merging DataFrame #2 (school_data_df), which is the \"right\" DataFrame, into DataFrame #1 (student_data_df), which is the \"left\" DataFrame. We refer to the DataFrames as \"left\" and \"right\" to reflect the order they appear inside the parentheses.\n",
    "# We use the parameter \"on,\" which is equal to a list of the columns that are identical from each DataFrame, in this case, \"school_name.\" We can also use the column name like this: on=\"school_name\".\n",
    "\n",
    "# There may be cases in which you want to merge on a column that has similar information in two separate DataFrames, but is named differently in each—for example, \"school_name\" in one DataFrame and \"high_school\" in the second. In these cases, you should rename the columns so that they match. This will help avoid duplicate columns or merging issues."
   ]
  },
  {
   "cell_type": "code",
   "execution_count": 198,
   "id": "d919054b",
   "metadata": {},
   "outputs": [],
   "source": [
    "# ^^^ (Cell above): The data from student_data_df takes up the first seven columns, and the four columns from the school_data_df are added at the end: School ID, type, size, and budget.\n",
    "\n",
    "# Now that we have our merged DataFrame, we can start getting some of the school district's key metrics."
   ]
  },
  {
   "cell_type": "code",
   "execution_count": 199,
   "id": "536c9543",
   "metadata": {},
   "outputs": [
    {
     "data": {
      "text/plain": [
       "39170"
      ]
     },
     "execution_count": 199,
     "metadata": {},
     "output_type": "execute_result"
    }
   ],
   "source": [
    "# Module 4.7.2: Get the Number of Students\n",
    "\n",
    "# If we add the count() method to the school_data_complete_df DataFrame, we will count all the items in each row for each column that is not null.\n",
    "\n",
    "# Get the total number of students.\n",
    "# student_count = school_data_complete_df.count()\n",
    "student_count = school_data_complete_df[\"Student ID\"].count()\n",
    "student_count"
   ]
  },
  {
   "cell_type": "code",
   "execution_count": 200,
   "id": "d8426919",
   "metadata": {},
   "outputs": [],
   "source": [
    "# In the output, we see that each column has 39,170 rows, or values. \n",
    "# Therefore, we can choose any one of the columns\n",
    "# and get the student count using the following format: school_data_complete_df[column].count()--comment out 'student_count = school_data_complete_df.count()' in the previous cell. "
   ]
  },
  {
   "cell_type": "code",
   "execution_count": 201,
   "id": "73287444",
   "metadata": {},
   "outputs": [
    {
     "data": {
      "text/plain": [
       "15"
      ]
     },
     "execution_count": 201,
     "metadata": {},
     "output_type": "execute_result"
    }
   ],
   "source": [
    "# Module 4.7.3: Get the Number of Schools\n",
    "    \n",
    "# There are two ways we can get the number of schools. \n",
    "# One is to use the school_data_df DataFrame and assign a variable to one of the columns in the DataFrame, like this:\n",
    "\n",
    "# Calculate the total number of schools.\n",
    "school_count = school_data_df[\"school_name\"].count()\n",
    "school_count"
   ]
  },
  {
   "cell_type": "code",
   "execution_count": 202,
   "id": "b4781bf0",
   "metadata": {},
   "outputs": [],
   "source": [
    "# ^^^ (Cell above): After running the code, the output is 15.\n",
    "\n",
    "# We can't use the count() method on the school_data_complete_df[\"school_name\"] column because this would give us a value of 39,170. If we want to use school_data_complete_df, we first need to get the unique items in the [\"school_name\"] column by using the unique() method. This method will return a \"ndarray\", or n-dimensional array of all the unique values of that column.\n",
    "\n",
    "# Add the following code to a new cell and run the cell. The output is shown below."
   ]
  },
  {
   "cell_type": "code",
   "execution_count": 203,
   "id": "60eb4a49",
   "metadata": {},
   "outputs": [
    {
     "data": {
      "text/plain": [
       "array(['Huang High School', 'Figueroa High School', 'Shelton High School',\n",
       "       'Hernandez High School', 'Griffin High School',\n",
       "       'Wilson High School', 'Cabrera High School', 'Bailey High School',\n",
       "       'Holden High School', 'Pena High School', 'Wright High School',\n",
       "       'Rodriguez High School', 'Johnson High School', 'Ford High School',\n",
       "       'Thomas High School'], dtype=object)"
      ]
     },
     "execution_count": 203,
     "metadata": {},
     "output_type": "execute_result"
    }
   ],
   "source": [
    "# Calculate the total number of schools\n",
    "school_count_2 = school_data_complete_df[\"school_name\"].unique()\n",
    "school_count_2"
   ]
  },
  {
   "cell_type": "code",
   "execution_count": 204,
   "id": "f867ab8d",
   "metadata": {},
   "outputs": [
    {
     "data": {
      "text/plain": [
       "15"
      ]
     },
     "execution_count": 204,
     "metadata": {},
     "output_type": "execute_result"
    }
   ],
   "source": [
    "len(school_data_complete_df[\"school_name\"].unique())"
   ]
  },
  {
   "cell_type": "code",
   "execution_count": 205,
   "id": "45600faa",
   "metadata": {},
   "outputs": [
    {
     "data": {
      "text/plain": [
       "24649428"
      ]
     },
     "execution_count": 205,
     "metadata": {},
     "output_type": "execute_result"
    }
   ],
   "source": [
    "# Module 4.7.4: Get the Total Budget\n",
    "    \n",
    "# Calculate the total budget.\n",
    "total_budget = school_data_df[\"budget\"].sum()\n",
    "total_budget"
   ]
  },
  {
   "cell_type": "code",
   "execution_count": 206,
   "id": "f1094806",
   "metadata": {},
   "outputs": [
    {
     "data": {
      "text/plain": [
       "81.87784018381414"
      ]
     },
     "execution_count": 206,
     "metadata": {},
     "output_type": "execute_result"
    }
   ],
   "source": [
    "# Module 4.7.5: Get the Score Averages\n",
    "\n",
    "# Calculate the average reading score.\n",
    "average_reading_score = school_data_complete_df[\"reading_score\"].mean()\n",
    "average_reading_score"
   ]
  },
  {
   "cell_type": "code",
   "execution_count": 207,
   "id": "1bf7db6a",
   "metadata": {},
   "outputs": [
    {
     "data": {
      "text/plain": [
       "78.98537145774827"
      ]
     },
     "execution_count": 207,
     "metadata": {},
     "output_type": "execute_result"
    }
   ],
   "source": [
    "# Calculate the average math score.\n",
    "average_math_score = school_data_complete_df[\"math_score\"].mean()\n",
    "average_math_score"
   ]
  },
  {
   "cell_type": "code",
   "execution_count": 208,
   "id": "bd3756c1",
   "metadata": {},
   "outputs": [],
   "source": [
    "# Module 4.7.6: Get the Passing Percentages\n",
    "\n",
    "# To get the percentage of students who passed math and reading, we will write code to:\n",
    "\n",
    "# Determine the passing grade.\n",
    "# Get the number of students who passed math and reading in separate DataFrames.\n",
    "# Calculate the number of students who passed math and reading.\n",
    "# Calculate the percentage of students who passed math and reading.\n",
    "# To get the overall passing percentage, we will write code to:\n",
    "\n",
    "# Get the number of students who passed both math and reading in a DataFrame.\n",
    "# Calculate the number of students who passed both math and reading.\n",
    "# Calculate the percentage of students who passed both math and reading."
   ]
  },
  {
   "cell_type": "code",
   "execution_count": 209,
   "id": "94881e3a",
   "metadata": {},
   "outputs": [],
   "source": [
    "# Determine the Passing Grade\n",
    "# For math and reading assessment tests in this school district, the passing score was 70. Therefore, we need to get all the math and reading scores that are greater than or equal to 70. To do this, in a new cell, assign a passing_math variable to the math_score column in school_data_complete_df, where all the math scores are equal to or greater than 70.\n",
    "\n",
    "passing_math = school_data_complete_df[\"math_score\"] >= 70\n",
    "passing_reading = school_data_complete_df[\"reading_score\"] >= 70"
   ]
  },
  {
   "cell_type": "code",
   "execution_count": 210,
   "id": "f12dd3a1",
   "metadata": {},
   "outputs": [],
   "source": [
    "# To find the passing_math variable, run passing_math in a new cell (below). \n",
    "# The result is Boolean values for the rows, where \"True\" means the score is \n",
    "# equal to or greater than 70, and \"False\" means the score is not equal to or greater than 70.\n",
    "\n",
    "# When we execute the code for passing_reading, we will get Boolean values for each row, \n",
    "# where \"True\" means the score is equal to or greater than 70, and \"False\" means the score is not equal to or greater than 70."
   ]
  },
  {
   "cell_type": "code",
   "execution_count": 211,
   "id": "9d2c58b4",
   "metadata": {},
   "outputs": [
    {
     "data": {
      "text/html": [
       "<div>\n",
       "<style scoped>\n",
       "    .dataframe tbody tr th:only-of-type {\n",
       "        vertical-align: middle;\n",
       "    }\n",
       "\n",
       "    .dataframe tbody tr th {\n",
       "        vertical-align: top;\n",
       "    }\n",
       "\n",
       "    .dataframe thead th {\n",
       "        text-align: right;\n",
       "    }\n",
       "</style>\n",
       "<table border=\"1\" class=\"dataframe\">\n",
       "  <thead>\n",
       "    <tr style=\"text-align: right;\">\n",
       "      <th></th>\n",
       "      <th>Student ID</th>\n",
       "      <th>student_name</th>\n",
       "      <th>gender</th>\n",
       "      <th>grade</th>\n",
       "      <th>school_name</th>\n",
       "      <th>reading_score</th>\n",
       "      <th>math_score</th>\n",
       "      <th>School ID</th>\n",
       "      <th>type</th>\n",
       "      <th>size</th>\n",
       "      <th>budget</th>\n",
       "    </tr>\n",
       "  </thead>\n",
       "  <tbody>\n",
       "    <tr>\n",
       "      <th>0</th>\n",
       "      <td>0</td>\n",
       "      <td>Paul Bradley</td>\n",
       "      <td>M</td>\n",
       "      <td>9th</td>\n",
       "      <td>Huang High School</td>\n",
       "      <td>66</td>\n",
       "      <td>79</td>\n",
       "      <td>0</td>\n",
       "      <td>District</td>\n",
       "      <td>2917</td>\n",
       "      <td>1910635</td>\n",
       "    </tr>\n",
       "    <tr>\n",
       "      <th>4</th>\n",
       "      <td>4</td>\n",
       "      <td>Bonnie Ray</td>\n",
       "      <td>F</td>\n",
       "      <td>9th</td>\n",
       "      <td>Huang High School</td>\n",
       "      <td>97</td>\n",
       "      <td>84</td>\n",
       "      <td>0</td>\n",
       "      <td>District</td>\n",
       "      <td>2917</td>\n",
       "      <td>1910635</td>\n",
       "    </tr>\n",
       "    <tr>\n",
       "      <th>5</th>\n",
       "      <td>5</td>\n",
       "      <td>Bryan Miranda</td>\n",
       "      <td>M</td>\n",
       "      <td>9th</td>\n",
       "      <td>Huang High School</td>\n",
       "      <td>94</td>\n",
       "      <td>94</td>\n",
       "      <td>0</td>\n",
       "      <td>District</td>\n",
       "      <td>2917</td>\n",
       "      <td>1910635</td>\n",
       "    </tr>\n",
       "    <tr>\n",
       "      <th>6</th>\n",
       "      <td>6</td>\n",
       "      <td>Sheena Carter</td>\n",
       "      <td>F</td>\n",
       "      <td>11th</td>\n",
       "      <td>Huang High School</td>\n",
       "      <td>82</td>\n",
       "      <td>80</td>\n",
       "      <td>0</td>\n",
       "      <td>District</td>\n",
       "      <td>2917</td>\n",
       "      <td>1910635</td>\n",
       "    </tr>\n",
       "    <tr>\n",
       "      <th>8</th>\n",
       "      <td>8</td>\n",
       "      <td>Michael Roth</td>\n",
       "      <td>M</td>\n",
       "      <td>10th</td>\n",
       "      <td>Huang High School</td>\n",
       "      <td>95</td>\n",
       "      <td>87</td>\n",
       "      <td>0</td>\n",
       "      <td>District</td>\n",
       "      <td>2917</td>\n",
       "      <td>1910635</td>\n",
       "    </tr>\n",
       "  </tbody>\n",
       "</table>\n",
       "</div>"
      ],
      "text/plain": [
       "   Student ID   student_name gender grade        school_name  reading_score  \\\n",
       "0           0   Paul Bradley      M   9th  Huang High School             66   \n",
       "4           4     Bonnie Ray      F   9th  Huang High School             97   \n",
       "5           5  Bryan Miranda      M   9th  Huang High School             94   \n",
       "6           6  Sheena Carter      F  11th  Huang High School             82   \n",
       "8           8   Michael Roth      M  10th  Huang High School             95   \n",
       "\n",
       "   math_score  School ID      type  size   budget  \n",
       "0          79          0  District  2917  1910635  \n",
       "4          84          0  District  2917  1910635  \n",
       "5          94          0  District  2917  1910635  \n",
       "6          80          0  District  2917  1910635  \n",
       "8          87          0  District  2917  1910635  "
      ]
     },
     "execution_count": 211,
     "metadata": {},
     "output_type": "execute_result"
    }
   ],
   "source": [
    "# Get the Number of Students Who Passed Math and Reading\n",
    "# To get all the students who passed math and all the students \n",
    "# who passed reading, we need to filter our school_data_complete_df DataFrame for the \"True\" cases. \n",
    "# In other words, get only the students who have a grade is equal or greater to 70.\n",
    "\n",
    "# Get all the students who are passing math in a new DataFrame.\n",
    "passing_math = school_data_complete_df[school_data_complete_df[\"math_score\"] >= 70]\n",
    "passing_math.head()"
   ]
  },
  {
   "cell_type": "code",
   "execution_count": 212,
   "id": "46d5a9ac",
   "metadata": {},
   "outputs": [
    {
     "data": {
      "text/plain": [
       "29370"
      ]
     },
     "execution_count": 212,
     "metadata": {},
     "output_type": "execute_result"
    }
   ],
   "source": [
    "passing_math[\"student_name\"].count()\n",
    "\n"
   ]
  },
  {
   "cell_type": "code",
   "execution_count": 213,
   "id": "18b21db7",
   "metadata": {},
   "outputs": [],
   "source": [
    "# Now we can repurpose the code we wrote to calculate passing_math in order to find passing_reading, \n",
    "# but we'll switch out math_score with reading_score, as shown in the following code:\n",
    "\n",
    "# Get all the students that are passing reading in a new DataFrame.\n",
    "passing_reading = school_data_complete_df[school_data_complete_df[\"reading_score\"] >= 70]\n",
    "\n",
    "# To get the number of students who passed math and reading, apply the count() method to the student_name column of the passing_math and passing_reading DataFrames, like this:\n",
    "\n",
    "# Calculate the number of students passing math.\n",
    "passing_math_count = passing_math[\"student_name\"].count()\n",
    "\n",
    "# Calculate the number of students passing reading.\n",
    "passing_reading_count = passing_reading[\"student_name\"].count()"
   ]
  },
  {
   "cell_type": "code",
   "execution_count": 214,
   "id": "2978edaf",
   "metadata": {},
   "outputs": [
    {
     "name": "stdout",
     "output_type": "stream",
     "text": [
      "29370\n",
      "33610\n"
     ]
    }
   ],
   "source": [
    "print(passing_math_count)\n",
    "print(passing_reading_count)"
   ]
  },
  {
   "cell_type": "code",
   "execution_count": 215,
   "id": "2fe599b7",
   "metadata": {},
   "outputs": [],
   "source": [
    "# Get the Percentage of Students Who Passed Math and Reading\n",
    "# To get the percentage of students who passed math and reading, \n",
    "# divide the passing_math_count and the passing_reading_count by the total number of students, \n",
    "# and then multiply by 100.\n",
    "\n",
    "# Since we are calculating a percentage, we need to convert the student_count to a number with a decimal, or floating-point decimal, by using float().\n",
    "\n",
    "# The final calculation should look like this:\n",
    "\n",
    "# Calculate the percent that passed math.\n",
    "passing_math_percentage = passing_math_count / float(student_count) * 100\n",
    "\n",
    "# Calculate the percent that passed reading.\n",
    "passing_reading_percentage = passing_reading_count / float(student_count) * 100"
   ]
  },
  {
   "cell_type": "code",
   "execution_count": 216,
   "id": "c33da4c4",
   "metadata": {},
   "outputs": [
    {
     "name": "stdout",
     "output_type": "stream",
     "text": [
      "74.9808526933878\n",
      "85.80546336482001\n"
     ]
    }
   ],
   "source": [
    "# When we execute this cell and print out the passing_math_percentage and passing_reading_percentage, \n",
    "# we get the percentage of students who passed math and the percentage of students who passed reading:\n",
    "print(passing_math_percentage)\n",
    "print(passing_reading_percentage)"
   ]
  },
  {
   "cell_type": "code",
   "execution_count": 217,
   "id": "29df2fac",
   "metadata": {},
   "outputs": [
    {
     "data": {
      "text/html": [
       "<div>\n",
       "<style scoped>\n",
       "    .dataframe tbody tr th:only-of-type {\n",
       "        vertical-align: middle;\n",
       "    }\n",
       "\n",
       "    .dataframe tbody tr th {\n",
       "        vertical-align: top;\n",
       "    }\n",
       "\n",
       "    .dataframe thead th {\n",
       "        text-align: right;\n",
       "    }\n",
       "</style>\n",
       "<table border=\"1\" class=\"dataframe\">\n",
       "  <thead>\n",
       "    <tr style=\"text-align: right;\">\n",
       "      <th></th>\n",
       "      <th>Student ID</th>\n",
       "      <th>student_name</th>\n",
       "      <th>gender</th>\n",
       "      <th>grade</th>\n",
       "      <th>school_name</th>\n",
       "      <th>reading_score</th>\n",
       "      <th>math_score</th>\n",
       "      <th>School ID</th>\n",
       "      <th>type</th>\n",
       "      <th>size</th>\n",
       "      <th>budget</th>\n",
       "    </tr>\n",
       "  </thead>\n",
       "  <tbody>\n",
       "    <tr>\n",
       "      <th>4</th>\n",
       "      <td>4</td>\n",
       "      <td>Bonnie Ray</td>\n",
       "      <td>F</td>\n",
       "      <td>9th</td>\n",
       "      <td>Huang High School</td>\n",
       "      <td>97</td>\n",
       "      <td>84</td>\n",
       "      <td>0</td>\n",
       "      <td>District</td>\n",
       "      <td>2917</td>\n",
       "      <td>1910635</td>\n",
       "    </tr>\n",
       "    <tr>\n",
       "      <th>5</th>\n",
       "      <td>5</td>\n",
       "      <td>Bryan Miranda</td>\n",
       "      <td>M</td>\n",
       "      <td>9th</td>\n",
       "      <td>Huang High School</td>\n",
       "      <td>94</td>\n",
       "      <td>94</td>\n",
       "      <td>0</td>\n",
       "      <td>District</td>\n",
       "      <td>2917</td>\n",
       "      <td>1910635</td>\n",
       "    </tr>\n",
       "    <tr>\n",
       "      <th>6</th>\n",
       "      <td>6</td>\n",
       "      <td>Sheena Carter</td>\n",
       "      <td>F</td>\n",
       "      <td>11th</td>\n",
       "      <td>Huang High School</td>\n",
       "      <td>82</td>\n",
       "      <td>80</td>\n",
       "      <td>0</td>\n",
       "      <td>District</td>\n",
       "      <td>2917</td>\n",
       "      <td>1910635</td>\n",
       "    </tr>\n",
       "    <tr>\n",
       "      <th>8</th>\n",
       "      <td>8</td>\n",
       "      <td>Michael Roth</td>\n",
       "      <td>M</td>\n",
       "      <td>10th</td>\n",
       "      <td>Huang High School</td>\n",
       "      <td>95</td>\n",
       "      <td>87</td>\n",
       "      <td>0</td>\n",
       "      <td>District</td>\n",
       "      <td>2917</td>\n",
       "      <td>1910635</td>\n",
       "    </tr>\n",
       "    <tr>\n",
       "      <th>9</th>\n",
       "      <td>9</td>\n",
       "      <td>Matthew Greene</td>\n",
       "      <td>M</td>\n",
       "      <td>10th</td>\n",
       "      <td>Huang High School</td>\n",
       "      <td>96</td>\n",
       "      <td>84</td>\n",
       "      <td>0</td>\n",
       "      <td>District</td>\n",
       "      <td>2917</td>\n",
       "      <td>1910635</td>\n",
       "    </tr>\n",
       "  </tbody>\n",
       "</table>\n",
       "</div>"
      ],
      "text/plain": [
       "   Student ID    student_name gender grade        school_name  reading_score  \\\n",
       "4           4      Bonnie Ray      F   9th  Huang High School             97   \n",
       "5           5   Bryan Miranda      M   9th  Huang High School             94   \n",
       "6           6   Sheena Carter      F  11th  Huang High School             82   \n",
       "8           8    Michael Roth      M  10th  Huang High School             95   \n",
       "9           9  Matthew Greene      M  10th  Huang High School             96   \n",
       "\n",
       "   math_score  School ID      type  size   budget  \n",
       "4          84          0  District  2917  1910635  \n",
       "5          94          0  District  2917  1910635  \n",
       "6          80          0  District  2917  1910635  \n",
       "8          87          0  District  2917  1910635  \n",
       "9          84          0  District  2917  1910635  "
      ]
     },
     "execution_count": 217,
     "metadata": {},
     "output_type": "execute_result"
    }
   ],
   "source": [
    "# Calculate the Overall Passing Percentage\n",
    "# To get the overall passing percentage, we need to get all the students who passed both math and reading and divide by the total number of students.\n",
    "\n",
    "# We can filter the school_data_complete_df DataFrame by adding the school_data_complete_df[\"math_score\"] >= 70 and school_data_complete_df[\"reading_score\"] >= 70 with the logical operator \"&\" within brackets, like this:\n",
    "\n",
    "# When we run this cell (below), the output will be a new DataFrame with all the columns that contain students who passed both math and reading.\n",
    "\n",
    "# Calculate the students who passed both math and reading.\n",
    "passing_math_reading = school_data_complete_df[(school_data_complete_df[\"math_score\"] >= 70) & (school_data_complete_df[\"reading_score\"] >= 70)]\n",
    "\n",
    "passing_math_reading.head()"
   ]
  },
  {
   "cell_type": "code",
   "execution_count": 218,
   "id": "f08de7a8",
   "metadata": {},
   "outputs": [
    {
     "data": {
      "text/plain": [
       "25528"
      ]
     },
     "execution_count": 218,
     "metadata": {},
     "output_type": "execute_result"
    }
   ],
   "source": [
    "passing_math_reading[\"student_name\"].count() # Option 1 of getting total number of students that passed math AND reading"
   ]
  },
  {
   "cell_type": "code",
   "execution_count": 219,
   "id": "a1183e1b",
   "metadata": {},
   "outputs": [
    {
     "data": {
      "text/plain": [
       "25528"
      ]
     },
     "execution_count": 219,
     "metadata": {},
     "output_type": "execute_result"
    }
   ],
   "source": [
    "passing_math_reading.student_name.count() # Option 2 of getting total number of students that passsed math AND reading"
   ]
  },
  {
   "cell_type": "code",
   "execution_count": 220,
   "id": "116cd63d",
   "metadata": {},
   "outputs": [
    {
     "data": {
      "text/plain": [
       "25528"
      ]
     },
     "execution_count": 220,
     "metadata": {},
     "output_type": "execute_result"
    }
   ],
   "source": [
    "# Calculate the number of students who passed both math and reading.\n",
    "overall_passing_math_reading_count = passing_math_reading[\"student_name\"].count()\n",
    "overall_passing_math_reading_count"
   ]
  },
  {
   "cell_type": "code",
   "execution_count": 221,
   "id": "e859439a",
   "metadata": {},
   "outputs": [
    {
     "data": {
      "text/plain": [
       "65.17232575950983"
      ]
     },
     "execution_count": 221,
     "metadata": {},
     "output_type": "execute_result"
    }
   ],
   "source": [
    "# Finally, we calculate the percentage of students who passed both math and reading by dividing the total number of students and multiplying by 100, using the following code.\n",
    "\n",
    "# Calculate the overall passing percentage.\n",
    "overall_passing_percentage = overall_passing_math_reading_count / student_count * 100\n",
    "overall_passing_percentage\n"
   ]
  },
  {
   "cell_type": "code",
   "execution_count": 222,
   "id": "07e632a1",
   "metadata": {},
   "outputs": [],
   "source": [
    "# This completes the data we need for the district summary. Now we'll add it to a new DataFrame."
   ]
  },
  {
   "cell_type": "code",
   "execution_count": 223,
   "id": "e75f34ac",
   "metadata": {},
   "outputs": [],
   "source": [
    "# Module 4.7.7: Create a District Summary DataFrame\n",
    "\n",
    "# Now that we have performed all the calculations needed for the district summary, let's add the following values and columns to a new DataFrame named district_summary_df.\n",
    "\n",
    "# Total number of schools in the column \"Total Schools\"\n",
    "# Total number of students in the column \"Total Students\"\n",
    "# Total budget in the column \"Total Budget\"\n",
    "# Average reading score in the column \"Average Reading Score\"\n",
    "# Average math score in the column \"Average Math Score\"\n",
    "# Percentage of students passing reading in the column \"% Passing Reading\"\n",
    "# Percentage of students passing math in the column \"% Passing Math\"\n",
    "# Overall passing percentage in the column \"% Overall Passing\"\n",
    "\n",
    "# REWIND: Remember, one way to create a new DataFrame is to convert a list of dictionaries to a DataFrame."
   ]
  },
  {
   "cell_type": "code",
   "execution_count": 224,
   "id": "9e8b58ee",
   "metadata": {
    "scrolled": true
   },
   "outputs": [],
   "source": [
    "# To create district_summary_df DataFrame, we can create a list of dictionaries, where the keys are column names and the values are the metrics we calculated. We do this because the DataFrame has no index, and lists have natural indexing.\n",
    "\n",
    "# Adding a list of values with keys to create a new DataFrame.\n",
    "district_summary_df = pd.DataFrame(\n",
    "          [{\"Total Schools\": school_count,\n",
    "          \"Total Students\": student_count,\n",
    "          \"Total Budget\": total_budget,\n",
    "          \"Average Math Score\": average_math_score,\n",
    "          \"Average Reading Score\": average_reading_score,\n",
    "          \"% Passing Math\": passing_math_percentage,\n",
    "         \"% Passing Reading\": passing_reading_percentage,\n",
    "        \"% Overall Passing\": overall_passing_percentage}])\n",
    "district_summary_df\n",
    "\n",
    "# Per Module 4.7.8: place this code below the district_summary_df DataFrame\n",
    "\n",
    "# Format the \"Total Students\" to have the comma for a thousands separator.\n",
    "district_summary_df[\"Total Students\"] = district_summary_df[\"Total Students\"].map(\"{:,}\".format)\n",
    "\n",
    "district_summary_df[\"Total Students\"]\n",
    "\n",
    "# # Format the columns.\n",
    "district_summary_df[\"Average Math Score\"] = district_summary_df[\"Average Math Score\"].map(\"{:.1f}\".format)\n",
    "\n",
    "district_summary_df[\"Average Reading Score\"] = district_summary_df[\"Average Reading Score\"].map(\"{:.1f}\".format)\n",
    "\n",
    "district_summary_df[\"% Passing Math\"] = district_summary_df[\"% Passing Math\"].map(\"{:.0f}\".format)\n",
    "\n",
    "district_summary_df[\"% Passing Reading\"] = district_summary_df[\"% Passing Reading\"].map(\"{:.0f}\".format)\n",
    "\n",
    "district_summary_df[\"% Overall Passing\"] = district_summary_df[\"% Overall Passing\"].map(\"{:.0f}\".format)"
   ]
  },
  {
   "cell_type": "code",
   "execution_count": 225,
   "id": "6ff33756",
   "metadata": {},
   "outputs": [],
   "source": [
    "# Module 4.7.8: Format Columns\n",
    "\n",
    "# To clean up the district_summary_df DataFrame, we will format dollar amounts to two decimal places, and format the grade averages to one decimal place and percentages to the nearest whole number percent.\n",
    "\n",
    "# This type of formatting can be done with the built-in Pandas map() function. The map() function is used for substituting each value in a Series with another value. Where the new value is generated from a function, a dictionary, or a Series.\n",
    "\n",
    "# In this module, as well as future modules, we'll be using and writing functions. So before we use the map() function for formatting, let's gain a better understanding of how functions work."
   ]
  },
  {
   "cell_type": "code",
   "execution_count": 226,
   "id": "59cd672c",
   "metadata": {},
   "outputs": [],
   "source": [
    "# Define the function \"say_hello\" so it prints \"Hello!\" when called.\n",
    "def say_hello():\n",
    "    print(\"Hello!\")\n",
    "    \n",
    "\n",
    "    \n",
    "# Let's go over what is happening in this function.\n",
    "\n",
    "# The def keyword, which is short for \"define,\" and is used to create the function.\n",
    "# The function name, say_hello(), is always written after def.\n",
    "# There is a colon after the function name, which tells Python that a code block or statement will follow. This is similar to conditional and repetition statements. All code within the function should be indented.\n",
    "# The indented statement that follows is print(\"Hello!\")."
   ]
  },
  {
   "cell_type": "code",
   "execution_count": 227,
   "id": "d58977c4",
   "metadata": {},
   "outputs": [
    {
     "name": "stdout",
     "output_type": "stream",
     "text": [
      "Hello!\n"
     ]
    }
   ],
   "source": [
    "# Calling a Function\n",
    "\n",
    "# Now we'll practice calling a function. Create a new Jupyter Notebook file and name it function.ipynb. Copy the following code for the say_hello() function into the file.\n",
    "\n",
    "# When you run the code (above), nothing appears to happen because we don't see an output error. To get the function to print \"Hello!\" in the output cell, we have to call the function.\n",
    "\n",
    "# To call the say_hello() function, type say_hello() in a new cell and run the cell.\n",
    "\n",
    "# Call the function.\n",
    "say_hello()"
   ]
  },
  {
   "cell_type": "code",
   "execution_count": 228,
   "id": "1af7bdba",
   "metadata": {},
   "outputs": [],
   "source": [
    "# Another example of calling a function:\n",
    "\n",
    "# Define teh function \"say_something\" so it prints whatever is passed as the variable when called.\n",
    "def say_something(something):\\\n",
    "    print(something)\n",
    "    "
   ]
  },
  {
   "cell_type": "code",
   "execution_count": 229,
   "id": "4eac3914",
   "metadata": {},
   "outputs": [
    {
     "name": "stdout",
     "output_type": "stream",
     "text": [
      "Hello World\n"
     ]
    }
   ],
   "source": [
    "# Call the function\n",
    "say_something(\"Hello World\")"
   ]
  },
  {
   "cell_type": "code",
   "execution_count": 230,
   "id": "89e442ff",
   "metadata": {},
   "outputs": [
    {
     "name": "stdout",
     "output_type": "stream",
     "text": [
      "Hi, my name is Jane. I'm learning Python!\n"
     ]
    }
   ],
   "source": [
    "Jane_says = \"Hi, my name is Jane. I'm learning Python!\"\n",
    "say_something(Jane_says)"
   ]
  },
  {
   "cell_type": "code",
   "execution_count": 231,
   "id": "2fed86ac",
   "metadata": {},
   "outputs": [],
   "source": [
    "# ---End of example (above) ---"
   ]
  },
  {
   "cell_type": "code",
   "execution_count": 232,
   "id": "99dbdb4a",
   "metadata": {},
   "outputs": [],
   "source": [
    "# Writing Functions for the School District Data\n",
    "# We've reviewed some basics about functions. Now how do we apply functions to our data analysis? For example, consider if you were in charge of calculating passing percentages for not just the school district we've been focusing on, but many school districts. It wouldn't be efficient to perform the steps of the calculation for each school district. A better method would be to create functions for this calculation and pass variables into the function.\n",
    "\n",
    "# Let's say you need to write a function to get the percentage of students who passed math when we know the number of students that passed math, pass_math_count, and the total number of students for a school district, student_count. We can define this function as passing_math_percentand pass the two values inside the function. Here's what this might look like:\n",
    "\n",
    "# Define a function that calculates the percentage of students that passed both \n",
    "# math and reading and returns the passing percentage when the function is called.\n",
    "\n",
    "def passing_math_percent(pass_math_count, student_count):\n",
    "    return pass_math_count / float(student_count) * 100\n",
    "\n",
    "# Let's go over what is happening in this function.\n",
    "\n",
    "# We added two values to the passing_math_percent function: pass_math_count and student_count.\n",
    "# We added return in front of the calculation for the passing percentage.\n",
    "# The return statement has a unique purpose. It causes the function to end and literally \"returns\" what is in front of the statement back to the caller, which is the function. Let's run through an example of what happens to better illustrate the process.\n"
   ]
  },
  {
   "cell_type": "code",
   "execution_count": 233,
   "id": "e39157b2",
   "metadata": {},
   "outputs": [],
   "source": [
    "# In a new cell, assign the passing_math_count and the total_student_count variables 29,730 and 39,170, respectively. When we run this cell, that nothing will happen until we call the function.\n",
    "\n",
    "passing_math_count = 29370\n",
    "total_student_count = 39170"
   ]
  },
  {
   "cell_type": "code",
   "execution_count": 234,
   "id": "210d3f3f",
   "metadata": {},
   "outputs": [
    {
     "data": {
      "text/plain": [
       "74.9808526933878"
      ]
     },
     "execution_count": 234,
     "metadata": {},
     "output_type": "execute_result"
    }
   ],
   "source": [
    "# Now we can call the function in a new cell with the two values, like this:\n",
    "\n",
    "# IMPORTANT: If you don't add the number of parameters that are assigned to the function when calling the function, you'll get a TypeError:. This means that you need to add one or more of the parameters when calling the function.\n",
    "\n",
    "# Call the function.\n",
    "passing_math_percent(passing_math_count, total_student_count)\n",
    "\n"
   ]
  },
  {
   "cell_type": "code",
   "execution_count": 235,
   "id": "d3380a3b",
   "metadata": {},
   "outputs": [],
   "source": [
    "# ---More examples of functions inside functions.ipynb file (Module 4.7.8)---"
   ]
  },
  {
   "cell_type": "code",
   "execution_count": 236,
   "id": "4f938c75",
   "metadata": {},
   "outputs": [],
   "source": [
    "# We can format the dollar amounts in the district_summary_df columns to two decimal places with a U.S. dollar sign, and numbers larger than 999 with a thousands separator.\n",
    "# Let's apply this formatting technique to format the Total Students column with a thousands separator using the basic syntax:\n",
    "# df[\"column\"] = df[\"column\"].map(\"{:,}\".format)\n",
    "# Now let's replace df[\"column\"] with district_summary_df[\"Total Students\"], so our code looks like the following. Add this code to youPyCitySchools.ipynb file below the output of your district_summary_df DataFrame, and run the cell."
   ]
  },
  {
   "cell_type": "code",
   "execution_count": 237,
   "id": "a476fd65",
   "metadata": {},
   "outputs": [],
   "source": [
    "# One benefit of using the format() function is that we can add other format specifications, like a U.S. dollar sign or other characters. For example, we will format the Total Budget column in the district_summary_df DataFrame with a U.S. dollar sign, and then format the numbers with a thousands separator and to two decimal places using the following syntax: \"${:,.2f}\".format."
   ]
  },
  {
   "cell_type": "code",
   "execution_count": 238,
   "id": "498c0ed0",
   "metadata": {},
   "outputs": [
    {
     "data": {
      "text/plain": [
       "0    $24,649,428.00\n",
       "Name: Total Budget, dtype: object"
      ]
     },
     "execution_count": 238,
     "metadata": {},
     "output_type": "execute_result"
    }
   ],
   "source": [
    "# Per Module 4.7.8: add the following code to a new cell in our PyCitySchools.ipynb file and run the cell.\n",
    "\n",
    "# Format \"Total Budget\" to have the comma for a thousands separator, a decimal separator, and a \"$\".\n",
    "\n",
    "district_summary_df[\"Total Budget\"] = district_summary_df[\"Total Budget\"].map(\"${:,.2f}\".format)\n",
    "\n",
    "district_summary_df[\"Total Budget\"]"
   ]
  },
  {
   "cell_type": "code",
   "execution_count": 239,
   "id": "1088af95",
   "metadata": {},
   "outputs": [],
   "source": [
    "# We need to format the remaining columns accordingly:\n",
    "\n",
    "# The \"Average Reading Score\" column will be formatted to one decimal place.\n",
    "# The \"Average Math Score\" column will be formatted to one decimal place.\n",
    "# The \"% Passing Reading\" column will be formatted to the nearest whole number percentage.\n",
    "# The \"% Passing Math\" column will be formatted to the nearest whole number percentage\n",
    "# The \"% Overall Passing\" column will be formatted to the nearest whole number percentage."
   ]
  },
  {
   "cell_type": "code",
   "execution_count": 240,
   "id": "d9b6355c",
   "metadata": {
    "scrolled": true
   },
   "outputs": [
    {
     "data": {
      "text/html": [
       "<div>\n",
       "<style scoped>\n",
       "    .dataframe tbody tr th:only-of-type {\n",
       "        vertical-align: middle;\n",
       "    }\n",
       "\n",
       "    .dataframe tbody tr th {\n",
       "        vertical-align: top;\n",
       "    }\n",
       "\n",
       "    .dataframe thead th {\n",
       "        text-align: right;\n",
       "    }\n",
       "</style>\n",
       "<table border=\"1\" class=\"dataframe\">\n",
       "  <thead>\n",
       "    <tr style=\"text-align: right;\">\n",
       "      <th></th>\n",
       "      <th>Total Schools</th>\n",
       "      <th>Total Students</th>\n",
       "      <th>Total Budget</th>\n",
       "      <th>Average Math Score</th>\n",
       "      <th>Average Reading Score</th>\n",
       "      <th>% Passing Math</th>\n",
       "      <th>% Passing Reading</th>\n",
       "      <th>% Overall Passing</th>\n",
       "    </tr>\n",
       "  </thead>\n",
       "  <tbody>\n",
       "    <tr>\n",
       "      <th>0</th>\n",
       "      <td>15</td>\n",
       "      <td>39,170</td>\n",
       "      <td>$24,649,428.00</td>\n",
       "      <td>79.0</td>\n",
       "      <td>81.9</td>\n",
       "      <td>75</td>\n",
       "      <td>86</td>\n",
       "      <td>65</td>\n",
       "    </tr>\n",
       "  </tbody>\n",
       "</table>\n",
       "</div>"
      ],
      "text/plain": [
       "   Total Schools Total Students    Total Budget Average Math Score  \\\n",
       "0             15         39,170  $24,649,428.00               79.0   \n",
       "\n",
       "  Average Reading Score % Passing Math % Passing Reading % Overall Passing  \n",
       "0                  81.9             75                86                65  "
      ]
     },
     "execution_count": 240,
     "metadata": {},
     "output_type": "execute_result"
    }
   ],
   "source": [
    "district_summary_df"
   ]
  },
  {
   "cell_type": "code",
   "execution_count": 241,
   "id": "02466c6d",
   "metadata": {},
   "outputs": [],
   "source": [
    "# Module 4.7.9: Reorder Columns\n",
    "\n",
    "# If the order of your columns in the district summary DataFrame is not in top-down order, you need to reorder them. If the columns are already in this order, you can use this time to gain familiarity with how to reorder columns in case the need arises. \n",
    "\n",
    "# The order of the columns in the district_summary_df DataFrame should be as follows:\n",
    "\n",
    "# Total Schools\n",
    "# Total Students\n",
    "# Total Budget\n",
    "# Average Math Score\n",
    "# Average Reading Score\n",
    "# % Passing Math\n",
    "# % Passing Reading\n",
    "# % Overall Passing"
   ]
  },
  {
   "cell_type": "code",
   "execution_count": 242,
   "id": "97f19271",
   "metadata": {},
   "outputs": [
    {
     "data": {
      "text/html": [
       "<div>\n",
       "<style scoped>\n",
       "    .dataframe tbody tr th:only-of-type {\n",
       "        vertical-align: middle;\n",
       "    }\n",
       "\n",
       "    .dataframe tbody tr th {\n",
       "        vertical-align: top;\n",
       "    }\n",
       "\n",
       "    .dataframe thead th {\n",
       "        text-align: right;\n",
       "    }\n",
       "</style>\n",
       "<table border=\"1\" class=\"dataframe\">\n",
       "  <thead>\n",
       "    <tr style=\"text-align: right;\">\n",
       "      <th></th>\n",
       "      <th>Total Schools</th>\n",
       "      <th>Total Students</th>\n",
       "      <th>Total Budget</th>\n",
       "      <th>Average Math Score</th>\n",
       "      <th>Average Reading Score</th>\n",
       "      <th>% Passing Math</th>\n",
       "      <th>% Passing Reading</th>\n",
       "      <th>% Overall Passing</th>\n",
       "    </tr>\n",
       "  </thead>\n",
       "  <tbody>\n",
       "    <tr>\n",
       "      <th>0</th>\n",
       "      <td>15</td>\n",
       "      <td>39,170</td>\n",
       "      <td>$24,649,428.00</td>\n",
       "      <td>79.0</td>\n",
       "      <td>81.9</td>\n",
       "      <td>75</td>\n",
       "      <td>86</td>\n",
       "      <td>65</td>\n",
       "    </tr>\n",
       "  </tbody>\n",
       "</table>\n",
       "</div>"
      ],
      "text/plain": [
       "   Total Schools Total Students    Total Budget Average Math Score  \\\n",
       "0             15         39,170  $24,649,428.00               79.0   \n",
       "\n",
       "  Average Reading Score % Passing Math % Passing Reading % Overall Passing  \n",
       "0                  81.9             75                86                65  "
      ]
     },
     "execution_count": 242,
     "metadata": {},
     "output_type": "execute_result"
    }
   ],
   "source": [
    "# Reorder the columns in the order you want them to appear.\n",
    "new_column_order = [\"Total Schools\", \"Total Students\", \"Total Budget\",\"Average Math Score\", \"Average Reading Score\", \"% Passing Math\", \"% Passing Reading\", \"% Overall Passing\"]\n",
    "# You can change the order of the columns or delete any from the line of code above.\n",
    "\n",
    "# Assign district summary df the new column order.\n",
    "district_summary_df = district_summary_df[new_column_order]\n",
    "district_summary_df"
   ]
  }
 ],
 "metadata": {
  "kernelspec": {
   "display_name": "PythonData",
   "language": "python",
   "name": "pythondata"
  },
  "language_info": {
   "codemirror_mode": {
    "name": "ipython",
    "version": 3
   },
   "file_extension": ".py",
   "mimetype": "text/x-python",
   "name": "python",
   "nbconvert_exporter": "python",
   "pygments_lexer": "ipython3",
   "version": "3.7.11"
  }
 },
 "nbformat": 4,
 "nbformat_minor": 5
}
